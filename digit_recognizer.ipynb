{
 "cells": [
  {
   "cell_type": "code",
   "execution_count": 397,
   "metadata": {},
   "outputs": [],
   "source": [
    "import random\n",
    "import time\n",
    "import numpy as np\n",
    "from scipy import ndimage\n",
    "import matplotlib.pyplot as plt\n",
    "import tensorflow as tf\n",
    "import keras\n",
    "from keras.models import Sequential\n",
    "from keras.layers import Dense, Conv2D, Dropout, Flatten, MaxPooling2D, BatchNormalization, Add, Activation, Cropping2D, Concatenate\n",
    "import keras.backend as K\n",
    "\n",
    "%matplotlib inline"
   ]
  },
  {
   "cell_type": "code",
   "execution_count": 2,
   "metadata": {},
   "outputs": [],
   "source": [
    "# Load the MNIST dataset\n",
    "(x_train, y_train), (x_test, y_test) = tf.keras.datasets.mnist.load_data()"
   ]
  },
  {
   "cell_type": "code",
   "execution_count": 3,
   "metadata": {},
   "outputs": [
    {
     "name": "stdout",
     "output_type": "stream",
     "text": [
      "1\n"
     ]
    },
    {
     "data": {
      "text/plain": [
       "<matplotlib.image.AxesImage at 0x21eda2d59e8>"
      ]
     },
     "execution_count": 3,
     "metadata": {},
     "output_type": "execute_result"
    },
    {
     "data": {
      "image/png": "[encoded data removed]",
      "text/plain": [
       "<Figure size 432x288 with 1 Axes>"
      ]
     },
     "metadata": {
      "needs_background": "light"
     },
     "output_type": "display_data"
    }
   ],
   "source": [
    "# Show an example image from the training data along with its label\n",
    "index = int(random.random()*len(x_train))\n",
    "print(y_train[index])\n",
    "plt.imshow(x_train[index], cmap='Greys')"
   ]
  },
  {
   "cell_type": "code",
   "execution_count": 4,
   "metadata": {},
   "outputs": [
    {
     "name": "stdout",
     "output_type": "stream",
     "text": [
      "(60000, 28, 28)\n",
      "(10000, 28, 28)\n"
     ]
    }
   ],
   "source": [
    "# 60k training examples, 28 x 28 pixel images\n",
    "print(x_train.shape)\n",
    "# 10k testing examples\n",
    "print(x_test.shape)"
   ]
  },
  {
   "cell_type": "code",
   "execution_count": 5,
   "metadata": {},
   "outputs": [],
   "source": [
    "# Reshape, only one layer (grayscale)\n",
    "x_train = x_train.reshape(60000, 28, 28, 1).astype('float32')\n",
    "x_test = x_test.reshape(10000, 28, 28, 1).astype('float32')\n",
    "input_shape = (28, 28, 1)"
   ]
  },
  {
   "cell_type": "code",
   "execution_count": 6,
   "metadata": {},
   "outputs": [],
   "source": [
    "# Normalize\n",
    "x_train /= 255.0\n",
    "x_test /= 255.0"
   ]
  },
  {
   "cell_type": "code",
   "execution_count": 63,
   "metadata": {},
   "outputs": [],
   "source": [
    "# Create model - convolution, pooling, flatten, relu, dropout, softmax\n",
    "model = Sequential()\n",
    "model.add(Conv2D(28, kernel_size=(3,3), input_shape = input_shape))\n",
    "model.add(MaxPooling2D(pool_size=(2,2)))\n",
    "model.add(Flatten())\n",
    "model.add(Dense(128, activation=tf.nn.relu))\n",
    "model.add(Dropout(0.2))\n",
    "model.add(Dense(10, activation=tf.nn.softmax))"
   ]
  },
  {
   "cell_type": "code",
   "execution_count": 64,
   "metadata": {},
   "outputs": [
    {
     "name": "stdout",
     "output_type": "stream",
     "text": [
      "Epoch 1/5\n",
      "60000/60000 [==============================] - 11s 176us/step - loss: 0.1975 - accuracy: 0.9414\n",
      "Epoch 2/5\n",
      "60000/60000 [==============================] - 10s 171us/step - loss: 0.0827 - accuracy: 0.9743\n",
      "Epoch 3/5\n",
      "60000/60000 [==============================] - 10s 174us/step - loss: 0.0551 - accuracy: 0.9826\n",
      "Epoch 4/5\n",
      "60000/60000 [==============================] - 10s 165us/step - loss: 0.0413 - accuracy: 0.9870\n",
      "Epoch 5/5\n",
      "60000/60000 [==============================] - 10s 165us/step - loss: 0.0327 - accuracy: 0.9894\n"
     ]
    },
    {
     "data": {
      "text/plain": [
       "<keras.callbacks.callbacks.History at 0x22f4bffbdd8>"
      ]
     },
     "execution_count": 64,
     "metadata": {},
     "output_type": "execute_result"
    }
   ],
   "source": [
    "model.compile(optimizer='adam', \n",
    "              loss='sparse_categorical_crossentropy', \n",
    "              metrics=['accuracy'])\n",
    "model.fit(x=x_train, y=y_train, epochs=5)"
   ]
  },
  {
   "cell_type": "code",
   "execution_count": 65,
   "metadata": {},
   "outputs": [
    {
     "name": "stdout",
     "output_type": "stream",
     "text": [
      "10000/10000 [==============================] - 1s 74us/step\n"
     ]
    },
    {
     "data": {
      "text/plain": [
       "[0.053561915939213944, 0.9830999970436096]"
      ]
     },
     "execution_count": 65,
     "metadata": {},
     "output_type": "execute_result"
    }
   ],
   "source": [
    "# Pretty much the same despite having twice as many neurons in the second to last layer\n",
    "model.evaluate(x_test, y_test)"
   ]
  },
  {
   "cell_type": "code",
   "execution_count": 139,
   "metadata": {
    "scrolled": true
   },
   "outputs": [
    {
     "name": "stdout",
     "output_type": "stream",
     "text": [
      "Prediction: 2\n",
      "Actual: 2\n"
     ]
    },
    {
     "data": {
      "text/plain": [
       "<matplotlib.image.AxesImage at 0x22f4face860>"
      ]
     },
     "execution_count": 139,
     "metadata": {},
     "output_type": "execute_result"
    },
    {
     "data": {
      "image/png": "[encoded data removed]",
      "text/plain": [
       "<Figure size 432x288 with 1 Axes>"
      ]
     },
     "metadata": {
      "needs_background": "light"
     },
     "output_type": "display_data"
    }
   ],
   "source": [
    "# Show an example image from the training data along with its label\n",
    "# and its predicted label from the model\n",
    "index = int(random.random()*len(x_test))\n",
    "pred = model.predict(x_test[index].reshape(1, 28, 28, 1))\n",
    "print('Prediction: {}'.format(pred.argmax()))\n",
    "print('Actual: {}'.format(y_test[index]))\n",
    "plt.imshow(x_test[index].reshape(28, 28), cmap='Greys')\n",
    "# Looks like a 1 to me..."
   ]
  },
  {
   "cell_type": "code",
   "execution_count": 13,
   "metadata": {},
   "outputs": [
    {
     "name": "stdout",
     "output_type": "stream",
     "text": [
      "Epoch 1/1\n",
      "60000/60000 [==============================] - 19s 315us/step - loss: 0.0252 - accuracy: 0.9912\n",
      "Epoch 1/1\n",
      "60000/60000 [==============================] - 10s 160us/step - loss: 0.0234 - accuracy: 0.9922\n"
     ]
    }
   ],
   "source": [
    "# Verify CUDA installation and compare GPU training speed to CPU\n",
    "with tf.device('/CPU:0'):\n",
    "    model.compile(optimizer='adam', \n",
    "              loss='sparse_categorical_crossentropy', \n",
    "              metrics=['accuracy'])\n",
    "    model.fit(x=x_train, y=y_train, epochs=1)\n",
    "with tf.device('/GPU:0'):\n",
    "    model.compile(optimizer='adam', \n",
    "              loss='sparse_categorical_crossentropy', \n",
    "              metrics=['accuracy'])\n",
    "    model.fit(x=x_train, y=y_train, epochs=1)\n",
    "# I don't have a great GPU, but it's better than nothing."
   ]
  },
  {
   "cell_type": "code",
   "execution_count": 153,
   "metadata": {},
   "outputs": [],
   "source": [
    "#Try some different architectures\n",
    "model2 = Sequential()\n",
    "model2.add(Conv2D(32, kernel_size=(3,3), input_shape=input_shape, padding='same', activation=tf.nn.relu))\n",
    "model2.add(Conv2D(64, kernel_size=(3,3), padding='same', activation=tf.nn.relu))\n",
    "model2.add(MaxPooling2D(pool_size=(2,2)))\n",
    "model2.add(Dropout(0.2))\n",
    "model2.add(Flatten())\n",
    "model2.add(Dense(64, activation=tf.nn.relu))\n",
    "model2.add(Dropout(0.5))\n",
    "model2.add(Dense(10, activation=tf.nn.softmax))"
   ]
  },
  {
   "cell_type": "code",
   "execution_count": 154,
   "metadata": {},
   "outputs": [
    {
     "name": "stdout",
     "output_type": "stream",
     "text": [
      "Epoch 1/5\n",
      "60000/60000 [==============================] - 9s 146us/step - loss: 0.5017 - accuracy: 0.8469\n",
      "Epoch 2/5\n",
      "60000/60000 [==============================] - 8s 136us/step - loss: 0.1613 - accuracy: 0.9537\n",
      "Epoch 3/5\n",
      "60000/60000 [==============================] - 8s 136us/step - loss: 0.1194 - accuracy: 0.9651\n",
      "Epoch 4/5\n",
      "60000/60000 [==============================] - 8s 136us/step - loss: 0.0991 - accuracy: 0.9695\n",
      "Epoch 5/5\n",
      "60000/60000 [==============================] - 8s 136us/step - loss: 0.0839 - accuracy: 0.9757\n"
     ]
    },
    {
     "data": {
      "text/plain": [
       "<keras.callbacks.callbacks.History at 0x22f544eeef0>"
      ]
     },
     "execution_count": 154,
     "metadata": {},
     "output_type": "execute_result"
    }
   ],
   "source": [
    "model2.compile(optimizer='adam', \n",
    "               loss='sparse_categorical_crossentropy',\n",
    "               metrics=['accuracy'])\n",
    "model2.fit(x=x_train, y=y_train, epochs=5, batch_size=512)"
   ]
  },
  {
   "cell_type": "code",
   "execution_count": 155,
   "metadata": {},
   "outputs": [
    {
     "name": "stdout",
     "output_type": "stream",
     "text": [
      "10000/10000 [==============================] - 1s 142us/step\n"
     ]
    },
    {
     "data": {
      "text/plain": [
       "[0.03603210315018077, 0.9883999824523926]"
      ]
     },
     "execution_count": 155,
     "metadata": {},
     "output_type": "execute_result"
    }
   ],
   "source": [
    "# Barely better\n",
    "model2.evaluate(x_test, y_test)"
   ]
  },
  {
   "cell_type": "code",
   "execution_count": 156,
   "metadata": {},
   "outputs": [],
   "source": [
    "model3 = Sequential()\n",
    "model3.add(Dropout(0.1))\n",
    "model3.add(Conv2D(32, kernel_size=(3,3), input_shape=input_shape, padding='same', activation=tf.nn.relu))\n",
    "model3.add(MaxPooling2D(pool_size=(2,2)))\n",
    "model3.add(Dropout(0.2))\n",
    "model3.add(Conv2D(32, kernel_size=(3,3), padding='same', activation=tf.nn.relu))\n",
    "model3.add(Flatten())\n",
    "model3.add(Dropout(0.2))\n",
    "model3.add(Dense(64, activation=tf.nn.relu))\n",
    "model3.add(Dropout(0.25))\n",
    "model3.add(Dense(10, activation=tf.nn.softmax))"
   ]
  },
  {
   "cell_type": "code",
   "execution_count": 159,
   "metadata": {},
   "outputs": [
    {
     "name": "stdout",
     "output_type": "stream",
     "text": [
      "Epoch 1/10\n",
      "60000/60000 [==============================] - 4s 67us/step - loss: 0.0795 - accuracy: 0.9755\n",
      "Epoch 2/10\n",
      "60000/60000 [==============================] - 4s 63us/step - loss: 0.0707 - accuracy: 0.9783\n",
      "Epoch 3/10\n",
      "60000/60000 [==============================] - 4s 63us/step - loss: 0.0639 - accuracy: 0.9800\n",
      "Epoch 4/10\n",
      "60000/60000 [==============================] - 4s 63us/step - loss: 0.0578 - accuracy: 0.9819\n",
      "Epoch 5/10\n",
      "60000/60000 [==============================] - 4s 63us/step - loss: 0.0532 - accuracy: 0.9829\n",
      "Epoch 6/10\n",
      "60000/60000 [==============================] - 4s 63us/step - loss: 0.0469 - accuracy: 0.9853\n",
      "Epoch 7/10\n",
      "60000/60000 [==============================] - 4s 63us/step - loss: 0.0440 - accuracy: 0.9864\n",
      "Epoch 8/10\n",
      "60000/60000 [==============================] - 4s 63us/step - loss: 0.0413 - accuracy: 0.9868\n",
      "Epoch 9/10\n",
      "60000/60000 [==============================] - 4s 63us/step - loss: 0.0390 - accuracy: 0.9871\n",
      "Epoch 10/10\n",
      "60000/60000 [==============================] - 4s 63us/step - loss: 0.0383 - accuracy: 0.9872\n"
     ]
    },
    {
     "data": {
      "text/plain": [
       "<keras.callbacks.callbacks.History at 0x22f558f57b8>"
      ]
     },
     "execution_count": 159,
     "metadata": {},
     "output_type": "execute_result"
    }
   ],
   "source": [
    "model3.compile(optimizer='adam',\n",
    "              loss='sparse_categorical_crossentropy',\n",
    "              metrics=['accuracy'])\n",
    "model3.fit(x=x_train, y=y_train, epochs=10, batch_size=512)"
   ]
  },
  {
   "cell_type": "code",
   "execution_count": 160,
   "metadata": {},
   "outputs": [
    {
     "name": "stdout",
     "output_type": "stream",
     "text": [
      "10000/10000 [==============================] - 1s 106us/step\n"
     ]
    },
    {
     "data": {
      "text/plain": [
       "[0.028460302224976475, 0.9907000064849854]"
      ]
     },
     "execution_count": 160,
     "metadata": {},
     "output_type": "execute_result"
    }
   ],
   "source": [
    "#This one was much faster, and slightly better.\n",
    "model3.evaluate(x_test, y_test)"
   ]
  },
  {
   "cell_type": "code",
   "execution_count": 100,
   "metadata": {},
   "outputs": [],
   "source": [
    "def ResNetUnit(x, filters=64, size=3, activation='relu', padding='same'):\n",
    "    y = Conv2D(filters, size, activation=activation, padding=padding)(x)\n",
    "    y = BatchNormalization()(y)\n",
    "    y = Conv2D(filters, size, activation=None, padding=padding)(y)\n",
    "    y = BatchNormalization()(y)\n",
    "    if padding=='same':\n",
    "        y = Add()([x, y])\n",
    "    else:\n",
    "        x = Cropping2D(size-1)(x)\n",
    "        y = Add()([x, y])\n",
    "    y = Activation(activation)(y)\n",
    "    return y"
   ]
  },
  {
   "cell_type": "code",
   "execution_count": 15,
   "metadata": {},
   "outputs": [],
   "source": [
    "inputs = keras.Input(shape=input_shape)\n",
    "x = Conv2D(32, 3, activation='relu', input_shape=input_shape)(inputs)\n",
    "x = Conv2D(64, 3, activation='relu')(x)\n",
    "x = MaxPooling2D(2)(x)\n",
    "x = ResNetUnit(x)\n",
    "x = ResNetUnit(x)\n",
    "x = Conv2D(64, 3, activation='relu')(x)\n",
    "x = MaxPooling2D(2)(x)\n",
    "x = Flatten()(x)\n",
    "x = Dense(256, activation='relu')(x)\n",
    "x = Dropout(0.2)(x)\n",
    "outputs = Dense(10, activation='softmax')(x)\n",
    "\n",
    "model4 = keras.Model(inputs, outputs)"
   ]
  },
  {
   "cell_type": "code",
   "execution_count": 16,
   "metadata": {},
   "outputs": [
    {
     "name": "stdout",
     "output_type": "stream",
     "text": [
      "Epoch 1/10\n",
      "60000/60000 [==============================] - 20s 327us/step - loss: 0.2691 - accuracy: 0.9251\n",
      "Epoch 2/10\n",
      "60000/60000 [==============================] - 19s 309us/step - loss: 0.0457 - accuracy: 0.9862\n",
      "Epoch 3/10\n",
      "60000/60000 [==============================] - 19s 309us/step - loss: 0.0304 - accuracy: 0.9906\n",
      "Epoch 4/10\n",
      "60000/60000 [==============================] - 19s 310us/step - loss: 0.0251 - accuracy: 0.9922\n",
      "Epoch 5/10\n",
      "60000/60000 [==============================] - 19s 309us/step - loss: 0.0204 - accuracy: 0.9937\n",
      "Epoch 6/10\n",
      "60000/60000 [==============================] - 19s 310us/step - loss: 0.0157 - accuracy: 0.9949\n",
      "Epoch 7/10\n",
      "60000/60000 [==============================] - 19s 310us/step - loss: 0.0118 - accuracy: 0.9964\n",
      "Epoch 8/10\n",
      "60000/60000 [==============================] - 19s 309us/step - loss: 0.0102 - accuracy: 0.9967\n",
      "Epoch 9/10\n",
      "60000/60000 [==============================] - 19s 310us/step - loss: 0.0088 - accuracy: 0.9972\n",
      "Epoch 10/10\n",
      "60000/60000 [==============================] - 19s 309us/step - loss: 0.0087 - accuracy: 0.9972\n"
     ]
    },
    {
     "data": {
      "text/plain": [
       "<keras.callbacks.callbacks.History at 0x2d275bddef0>"
      ]
     },
     "execution_count": 16,
     "metadata": {},
     "output_type": "execute_result"
    }
   ],
   "source": [
    "model4.compile(optimizer='adam',\n",
    "              loss='sparse_categorical_crossentropy',\n",
    "              metrics=['accuracy'])\n",
    "model4.fit(x=x_train, y=y_train, batch_size=512, epochs=10)"
   ]
  },
  {
   "cell_type": "code",
   "execution_count": 37,
   "metadata": {},
   "outputs": [
    {
     "name": "stdout",
     "output_type": "stream",
     "text": [
      "10000/10000 [==============================] - 2s 207us/step\n"
     ]
    },
    {
     "data": {
      "text/plain": [
       "[0.024909546506872084, 0.9932000041007996]"
      ]
     },
     "execution_count": 37,
     "metadata": {},
     "output_type": "execute_result"
    }
   ],
   "source": [
    "model4.evaluate(x_test, y_test)"
   ]
  },
  {
   "cell_type": "code",
   "execution_count": 22,
   "metadata": {},
   "outputs": [
    {
     "data": {
      "text/plain": [
       "<matplotlib.image.AxesImage at 0x2d32a51e898>"
      ]
     },
     "execution_count": 22,
     "metadata": {},
     "output_type": "execute_result"
    },
    {
     "data": {
      "image/png": "[encoded data removed]",
      "text/plain": [
       "<Figure size 432x288 with 1 Axes>"
      ]
     },
     "metadata": {
      "needs_background": "light"
     },
     "output_type": "display_data"
    }
   ],
   "source": [
    "plt.imshow(x_test[100].reshape(28,28), cmap='Greys')"
   ]
  },
  {
   "cell_type": "code",
   "execution_count": 41,
   "metadata": {},
   "outputs": [],
   "source": [
    "vals = []\n",
    "for i in range(10000):\n",
    "    vals.append([y_test[i], model4.predict(x_test[i].reshape(1,28,28,1)).argmax()])"
   ]
  },
  {
   "cell_type": "code",
   "execution_count": 44,
   "metadata": {},
   "outputs": [],
   "source": [
    "mismatch = []\n",
    "for i in range(10000):\n",
    "    if vals[i][0] != vals[i][1]:\n",
    "        mismatch.append([i, vals[i][0], vals[i][1]])"
   ]
  },
  {
   "cell_type": "code",
   "execution_count": 45,
   "metadata": {},
   "outputs": [
    {
     "data": {
      "text/plain": [
       "[[115, 4, 9],\n",
       " [340, 5, 3],\n",
       " [449, 3, 5],\n",
       " [582, 8, 3],\n",
       " [684, 7, 2],\n",
       " [740, 4, 9],\n",
       " [846, 7, 9],\n",
       " [947, 8, 9],\n",
       " [1014, 6, 5],\n",
       " [1039, 7, 1],\n",
       " [1242, 4, 9],\n",
       " [1260, 7, 1],\n",
       " [1393, 5, 3],\n",
       " [1459, 2, 3],\n",
       " [1500, 7, 3],\n",
       " [1522, 7, 9],\n",
       " [1737, 5, 3],\n",
       " [1878, 8, 3],\n",
       " [1901, 9, 4],\n",
       " [2070, 7, 9],\n",
       " [2130, 4, 9],\n",
       " [2182, 1, 3],\n",
       " [2293, 9, 4],\n",
       " [2447, 4, 9],\n",
       " [2454, 6, 5],\n",
       " [2597, 5, 3],\n",
       " [2654, 6, 1],\n",
       " [2771, 4, 9],\n",
       " [2896, 8, 0],\n",
       " [2939, 9, 5],\n",
       " [2953, 3, 5],\n",
       " [2959, 2, 3],\n",
       " [2995, 6, 5],\n",
       " [3073, 1, 2],\n",
       " [3225, 7, 9],\n",
       " [3422, 6, 0],\n",
       " [3441, 7, 2],\n",
       " [3520, 6, 4],\n",
       " [3534, 4, 8],\n",
       " [3767, 7, 2],\n",
       " [3906, 1, 3],\n",
       " [3941, 4, 6],\n",
       " [4199, 7, 9],\n",
       " [4382, 4, 9],\n",
       " [4536, 6, 5],\n",
       " [4571, 6, 8],\n",
       " [4783, 4, 9],\n",
       " [4860, 4, 9],\n",
       " [4911, 4, 9],\n",
       " [5165, 0, 6],\n",
       " [5201, 4, 9],\n",
       " [5936, 4, 9],\n",
       " [5937, 5, 3],\n",
       " [5981, 5, 9],\n",
       " [5997, 5, 9],\n",
       " [6571, 9, 5],\n",
       " [6576, 7, 1],\n",
       " [6597, 0, 3],\n",
       " [6651, 0, 6],\n",
       " [6783, 1, 6],\n",
       " [7902, 7, 9],\n",
       " [8061, 4, 9],\n",
       " [8316, 7, 2],\n",
       " [8527, 4, 9],\n",
       " [9505, 7, 2],\n",
       " [9664, 2, 7],\n",
       " [9729, 5, 6],\n",
       " [9792, 4, 9]]"
      ]
     },
     "execution_count": 45,
     "metadata": {},
     "output_type": "execute_result"
    }
   ],
   "source": [
    "mismatch"
   ]
  },
  {
   "cell_type": "code",
   "execution_count": 49,
   "metadata": {},
   "outputs": [
    {
     "data": {
      "text/plain": [
       "<matplotlib.image.AxesImage at 0x2d336aa5198>"
      ]
     },
     "execution_count": 49,
     "metadata": {},
     "output_type": "execute_result"
    },
    {
     "data": {
      "image/png": "[encoded data removed]",
      "text/plain": [
       "<Figure size 432x288 with 1 Axes>"
      ]
     },
     "metadata": {
      "needs_background": "light"
     },
     "output_type": "display_data"
    }
   ],
   "source": [
    "# wtf is this? \n",
    "plt.imshow(x_test[582].reshape(28,28), cmap='Greys')"
   ]
  },
  {
   "cell_type": "code",
   "execution_count": 61,
   "metadata": {},
   "outputs": [
    {
     "data": {
      "text/plain": [
       "<matplotlib.image.AxesImage at 0x2d33a0e5978>"
      ]
     },
     "execution_count": 61,
     "metadata": {},
     "output_type": "execute_result"
    },
    {
     "data": {
      "image/png": "[encoded data removed]",
      "text/plain": [
       "<Figure size 432x288 with 1 Axes>"
      ]
     },
     "metadata": {
      "needs_background": "light"
     },
     "output_type": "display_data"
    }
   ],
   "source": [
    "# I swear this is a 6.\n",
    "plt.imshow(x_test[9729].reshape(28,28), cmap='Greys')"
   ]
  },
  {
   "cell_type": "code",
   "execution_count": 400,
   "metadata": {},
   "outputs": [],
   "source": [
    "inputs = keras.Input(shape=input_shape)\n",
    "x = Conv2D(32, 3, activation='relu', input_shape=input_shape)(inputs)\n",
    "x = Dropout(0.1)(x)\n",
    "x = Conv2D(64, 3, activation='relu')(x)\n",
    "x = Dropout(0.1)(x)\n",
    "x = MaxPooling2D(2)(x)\n",
    "x = ResNetUnit(x)\n",
    "x = ResNetUnit(x)\n",
    "x = Conv2D(64, 3, activation='relu')(x)\n",
    "x = Dropout(0.1)(x)\n",
    "x = MaxPooling2D(2)(x)\n",
    "x = Flatten()(x)\n",
    "x = Dense(256, activation='relu')(x)\n",
    "x = Dropout(0.2)(x)\n",
    "outputs = Dense(10, activation='softmax')(x)\n",
    "\n",
    "model5 = keras.Model(inputs, outputs)"
   ]
  },
  {
   "cell_type": "code",
   "execution_count": 63,
   "metadata": {},
   "outputs": [
    {
     "name": "stdout",
     "output_type": "stream",
     "text": [
      "Epoch 1/10\n",
      "60000/60000 [==============================] - 26s 442us/step - loss: 0.7608 - accuracy: 0.7875\n",
      "Epoch 2/10\n",
      "60000/60000 [==============================] - 24s 403us/step - loss: 0.0853 - accuracy: 0.9728\n",
      "Epoch 3/10\n",
      "60000/60000 [==============================] - 24s 405us/step - loss: 0.0566 - accuracy: 0.9827\n",
      "Epoch 4/10\n",
      "60000/60000 [==============================] - 24s 405us/step - loss: 0.0422 - accuracy: 0.9868\n",
      "Epoch 5/10\n",
      "60000/60000 [==============================] - 24s 406us/step - loss: 0.0337 - accuracy: 0.9898\n",
      "Epoch 6/10\n",
      "60000/60000 [==============================] - 24s 405us/step - loss: 0.0282 - accuracy: 0.9911\n",
      "Epoch 7/10\n",
      "60000/60000 [==============================] - 24s 405us/step - loss: 0.0242 - accuracy: 0.9922\n",
      "Epoch 8/10\n",
      "60000/60000 [==============================] - 24s 404us/step - loss: 0.0218 - accuracy: 0.9932\n",
      "Epoch 9/10\n",
      "60000/60000 [==============================] - 24s 404us/step - loss: 0.0202 - accuracy: 0.9934\n",
      "Epoch 10/10\n",
      "60000/60000 [==============================] - 24s 404us/step - loss: 0.0172 - accuracy: 0.9948\n"
     ]
    },
    {
     "data": {
      "text/plain": [
       "<keras.callbacks.callbacks.History at 0x2d3465c9c18>"
      ]
     },
     "execution_count": 63,
     "metadata": {},
     "output_type": "execute_result"
    }
   ],
   "source": [
    "model5.compile(optimizer='adam',\n",
    "               loss='sparse_categorical_crossentropy',\n",
    "               metrics=['accuracy'])\n",
    "model5.fit(x_train, y_train, batch_size=1000, epochs=10)"
   ]
  },
  {
   "cell_type": "code",
   "execution_count": 64,
   "metadata": {},
   "outputs": [
    {
     "name": "stdout",
     "output_type": "stream",
     "text": [
      "10000/10000 [==============================] - 2s 249us/step\n"
     ]
    },
    {
     "data": {
      "text/plain": [
       "[0.020051686681550926, 0.9939000010490417]"
      ]
     },
     "execution_count": 64,
     "metadata": {},
     "output_type": "execute_result"
    }
   ],
   "source": [
    "model5.evaluate(x_test, y_test)"
   ]
  },
  {
   "cell_type": "code",
   "execution_count": 404,
   "metadata": {},
   "outputs": [],
   "source": [
    "# ~20 layers deep?\n",
    "inputs = keras.Input(shape=input_shape)\n",
    "x = Conv2D(32, 3, activation='relu', input_shape=input_shape)(inputs)\n",
    "x = Conv2D(64, 3, activation='relu')(x)\n",
    "x = MaxPooling2D(2)(x)\n",
    "for _ in range(8):\n",
    "    x = ResNetUnit(x)\n",
    "x = Conv2D(64, 3, activation='relu')(x)\n",
    "x = MaxPooling2D(2)(x)\n",
    "x = Flatten()(x)\n",
    "x = Dense(256, activation='relu')(x)\n",
    "x = Dropout(0.5)(x)\n",
    "outputs = Dense(10, activation='softmax')(x)\n",
    "\n",
    "model6 = keras.Model(inputs, outputs)"
   ]
  },
  {
   "cell_type": "code",
   "execution_count": 19,
   "metadata": {},
   "outputs": [
    {
     "name": "stdout",
     "output_type": "stream",
     "text": [
      "Epoch 1/30\n",
      "60000/60000 [==============================] - 54s 899us/step - loss: 0.9550 - accuracy: 0.8152\n",
      "Epoch 2/30\n",
      "60000/60000 [==============================] - 51s 850us/step - loss: 0.0664 - accuracy: 0.9792\n",
      "Epoch 3/30\n",
      "60000/60000 [==============================] - 51s 850us/step - loss: 0.0427 - accuracy: 0.9868\n",
      "Epoch 4/30\n",
      "60000/60000 [==============================] - 51s 851us/step - loss: 0.0314 - accuracy: 0.9903\n",
      "Epoch 5/30\n",
      "60000/60000 [==============================] - 51s 852us/step - loss: 0.0225 - accuracy: 0.9931\n",
      "Epoch 6/30\n",
      "60000/60000 [==============================] - 51s 852us/step - loss: 0.0191 - accuracy: 0.9941\n",
      "Epoch 7/30\n",
      "60000/60000 [==============================] - 51s 851us/step - loss: 0.0153 - accuracy: 0.9949\n",
      "Epoch 8/30\n",
      "60000/60000 [==============================] - 51s 851us/step - loss: 0.0129 - accuracy: 0.9960\n",
      "Epoch 9/30\n",
      "60000/60000 [==============================] - 51s 851us/step - loss: 0.0145 - accuracy: 0.9952\n",
      "Epoch 10/30\n",
      "60000/60000 [==============================] - 51s 852us/step - loss: 0.0097 - accuracy: 0.9972\n",
      "Epoch 11/30\n",
      "60000/60000 [==============================] - 51s 853us/step - loss: 0.0078 - accuracy: 0.9975\n",
      "Epoch 12/30\n",
      "60000/60000 [==============================] - 51s 852us/step - loss: 0.0078 - accuracy: 0.9973\n",
      "Epoch 13/30\n",
      "60000/60000 [==============================] - 51s 853us/step - loss: 0.0087 - accuracy: 0.9973\n",
      "Epoch 14/30\n",
      "60000/60000 [==============================] - 51s 852us/step - loss: 0.0066 - accuracy: 0.9977\n",
      "Epoch 15/30\n",
      "60000/60000 [==============================] - 51s 856us/step - loss: 0.0074 - accuracy: 0.9976\n",
      "Epoch 16/30\n",
      "60000/60000 [==============================] - 51s 855us/step - loss: 0.0066 - accuracy: 0.9979\n",
      "Epoch 17/30\n",
      "60000/60000 [==============================] - 52s 861us/step - loss: 0.0068 - accuracy: 0.9976\n",
      "Epoch 18/30\n",
      "60000/60000 [==============================] - 52s 862us/step - loss: 0.0055 - accuracy: 0.9982\n",
      "Epoch 19/30\n",
      "60000/60000 [==============================] - 52s 863us/step - loss: 0.0081 - accuracy: 0.9973\n",
      "Epoch 20/30\n",
      "60000/60000 [==============================] - 52s 863us/step - loss: 0.0079 - accuracy: 0.9977\n",
      "Epoch 21/30\n",
      "60000/60000 [==============================] - 52s 866us/step - loss: 0.0057 - accuracy: 0.9981\n",
      "Epoch 22/30\n",
      "60000/60000 [==============================] - 52s 864us/step - loss: 0.0058 - accuracy: 0.9982\n",
      "Epoch 23/30\n",
      "60000/60000 [==============================] - 52s 865us/step - loss: 0.0062 - accuracy: 0.9979\n",
      "Epoch 24/30\n",
      "60000/60000 [==============================] - 52s 866us/step - loss: 0.0045 - accuracy: 0.9986\n",
      "Epoch 25/30\n",
      "60000/60000 [==============================] - 52s 865us/step - loss: 0.0075 - accuracy: 0.9975\n",
      "Epoch 26/30\n",
      "60000/60000 [==============================] - 52s 866us/step - loss: 0.0051 - accuracy: 0.9981\n",
      "Epoch 27/30\n",
      "60000/60000 [==============================] - 52s 868us/step - loss: 0.0032 - accuracy: 0.9990\n",
      "Epoch 28/30\n",
      "60000/60000 [==============================] - 52s 867us/step - loss: 0.0049 - accuracy: 0.9983\n",
      "Epoch 29/30\n",
      "60000/60000 [==============================] - 52s 867us/step - loss: 0.0043 - accuracy: 0.9987\n",
      "Epoch 30/30\n",
      "60000/60000 [==============================] - 52s 865us/step - loss: 0.0056 - accuracy: 0.9982\n"
     ]
    },
    {
     "data": {
      "text/plain": [
       "<keras.callbacks.callbacks.History at 0x21f9d8d2c88>"
      ]
     },
     "execution_count": 19,
     "metadata": {},
     "output_type": "execute_result"
    }
   ],
   "source": [
    "model6.compile(optimizer='adam',\n",
    "               loss='sparse_categorical_crossentropy',\n",
    "               metrics=['accuracy'])\n",
    "model6.fit(x_train, y_train, batch_size=1000, epochs=30)"
   ]
  },
  {
   "cell_type": "code",
   "execution_count": 22,
   "metadata": {},
   "outputs": [
    {
     "name": "stdout",
     "output_type": "stream",
     "text": [
      "10000/10000 [==============================] - 5s 499us/step\n"
     ]
    },
    {
     "data": {
      "text/plain": [
       "[0.026167441274324993, 0.992900013923645]"
      ]
     },
     "execution_count": 22,
     "metadata": {},
     "output_type": "execute_result"
    }
   ],
   "source": [
    "model6.evaluate(x_test, y_test)"
   ]
  },
  {
   "cell_type": "code",
   "execution_count": 31,
   "metadata": {},
   "outputs": [],
   "source": [
    "# Create new data to improve training\n",
    "# Assume image is 28 x 28 x 1 as it is in this dataset...\n",
    "# Only integral shifts\n",
    "def translate(image, dx, dy):\n",
    "    res = np.copy(image)\n",
    "    for i in range(28):\n",
    "        for j in range(28):\n",
    "            if i-dx < 0 or i-dx >= 28 or j-dy < 0 or j-dy >= 28:\n",
    "                res[i,j,0] = 0.0\n",
    "            else:\n",
    "                res[i,j,0] = image[i-dx,j-dy,0]\n",
    "    return image\n",
    "\n",
    "def rotate(image, theta):\n",
    "    return ndimage.rotate(image, theta, reshape=False)"
   ]
  },
  {
   "cell_type": "code",
   "execution_count": 32,
   "metadata": {},
   "outputs": [],
   "source": [
    "# Create augmented training set\n",
    "extra_train_x = []\n",
    "extra_train_y = []\n",
    "# Copy over\n",
    "for image in x_train:\n",
    "    extra_train_x.append(image)\n",
    "for label in y_train:\n",
    "    extra_train_y.append(label)\n",
    "# Up to 300k total images, shifted +/- 1 pixel and rotated +/-30 degrees\n",
    "for _ in range(4):\n",
    "    for (image, label) in zip(x_train, y_train):\n",
    "        trans_image = translate(rotate(image, -30+60*random.random()), -1+int(3*random.random()), -1+int(3*random.random()))\n",
    "        extra_train_x.append(trans_image)\n",
    "        extra_train_y.append(label)"
   ]
  },
  {
   "cell_type": "code",
   "execution_count": 48,
   "metadata": {},
   "outputs": [],
   "source": [
    "extra_train_x = np.asarray(extra_train_x).astype('float32')\n",
    "extra_train_y = np.asarray(extra_train_y).astype('float32')"
   ]
  },
  {
   "cell_type": "code",
   "execution_count": 62,
   "metadata": {},
   "outputs": [],
   "source": [
    "# Convert image values so there aren't any negatives...\n",
    "fastconv = Sequential()\n",
    "fastconv.add(Activation('relu'))\n",
    "extra_train_x = fastconv.predict(extra_train_x)"
   ]
  },
  {
   "cell_type": "code",
   "execution_count": 63,
   "metadata": {},
   "outputs": [
    {
     "data": {
      "text/plain": [
       "<matplotlib.image.AxesImage at 0x21f9dc80e48>"
      ]
     },
     "execution_count": 63,
     "metadata": {},
     "output_type": "execute_result"
    },
    {
     "data": {
      "image/png": "[encoded data removed]",
      "text/plain": [
       "<Figure size 432x288 with 1 Axes>"
      ]
     },
     "metadata": {
      "needs_background": "light"
     },
     "output_type": "display_data"
    }
   ],
   "source": [
    "plt.imshow(extra_train_x[2*60000+0].reshape(28,28), cmap='Greys')"
   ]
  },
  {
   "cell_type": "code",
   "execution_count": 70,
   "metadata": {},
   "outputs": [
    {
     "name": "stdout",
     "output_type": "stream",
     "text": [
      "Epoch 1/100\n",
      "300000/300000 [==============================] - 258s 861us/step - loss: 0.2514 - accuracy: 0.9365\n",
      "Epoch 2/100\n",
      "300000/300000 [==============================] - 256s 854us/step - loss: 0.0388 - accuracy: 0.9886\n",
      "Epoch 3/100\n",
      "300000/300000 [==============================] - 257s 857us/step - loss: 0.0271 - accuracy: 0.9919\n",
      "Epoch 4/100\n",
      "300000/300000 [==============================] - 257s 856us/step - loss: 0.0213 - accuracy: 0.9936\n",
      "Epoch 5/100\n",
      "300000/300000 [==============================] - 256s 854us/step - loss: 0.0179 - accuracy: 0.9945\n",
      "Epoch 6/100\n",
      "300000/300000 [==============================] - 256s 855us/step - loss: 0.0160 - accuracy: 0.9951\n",
      "Epoch 7/100\n",
      "300000/300000 [==============================] - 257s 855us/step - loss: 0.0162 - accuracy: 0.9950\n",
      "Epoch 8/100\n",
      "300000/300000 [==============================] - 270s 901us/step - loss: 0.0133 - accuracy: 0.9960\n",
      "Epoch 9/100\n",
      "300000/300000 [==============================] - 272s 906us/step - loss: 0.0135 - accuracy: 0.9960\n",
      "Epoch 10/100\n",
      "300000/300000 [==============================] - 271s 905us/step - loss: 0.0117 - accuracy: 0.9963\n",
      "Epoch 11/100\n",
      "300000/300000 [==============================] - 272s 906us/step - loss: 0.0104 - accuracy: 0.9968\n",
      "Epoch 12/100\n",
      "300000/300000 [==============================] - 272s 906us/step - loss: 0.0099 - accuracy: 0.9969\n",
      "Epoch 13/100\n",
      "300000/300000 [==============================] - 272s 905us/step - loss: 0.0115 - accuracy: 0.9965\n",
      "Epoch 14/100\n",
      "300000/300000 [==============================] - 266s 887us/step - loss: 0.0096 - accuracy: 0.9970\n",
      "Epoch 15/100\n",
      "300000/300000 [==============================] - 257s 858us/step - loss: 0.0093 - accuracy: 0.9971\n",
      "Epoch 16/100\n",
      "300000/300000 [==============================] - 257s 857us/step - loss: 0.0092 - accuracy: 0.9972\n",
      "Epoch 17/100\n",
      "300000/300000 [==============================] - 257s 857us/step - loss: 0.0076 - accuracy: 0.9976\n",
      "Epoch 18/100\n",
      "300000/300000 [==============================] - 257s 858us/step - loss: 0.0077 - accuracy: 0.9977\n",
      "Epoch 19/100\n",
      "300000/300000 [==============================] - 256s 854us/step - loss: 0.0074 - accuracy: 0.9977\n",
      "Epoch 20/100\n",
      "300000/300000 [==============================] - 257s 857us/step - loss: 0.0082 - accuracy: 0.9974\n",
      "Epoch 21/100\n",
      "300000/300000 [==============================] - 257s 858us/step - loss: 0.0068 - accuracy: 0.9978\n",
      "Epoch 22/100\n",
      "300000/300000 [==============================] - 257s 857us/step - loss: 0.0077 - accuracy: 0.9978\n",
      "Epoch 23/100\n",
      "300000/300000 [==============================] - 257s 858us/step - loss: 0.0051 - accuracy: 0.9984\n",
      "Epoch 24/100\n",
      "300000/300000 [==============================] - 257s 858us/step - loss: 0.0062 - accuracy: 0.9981\n",
      "Epoch 25/100\n",
      "300000/300000 [==============================] - 257s 858us/step - loss: 0.0063 - accuracy: 0.9980\n",
      "Epoch 26/100\n",
      "300000/300000 [==============================] - 258s 858us/step - loss: 0.0052 - accuracy: 0.9984\n",
      "Epoch 27/100\n",
      "300000/300000 [==============================] - 257s 857us/step - loss: 0.0055 - accuracy: 0.9984\n",
      "Epoch 28/100\n",
      "300000/300000 [==============================] - 257s 856us/step - loss: 0.0049 - accuracy: 0.9985\n",
      "Epoch 29/100\n",
      "300000/300000 [==============================] - 256s 854us/step - loss: 0.0042 - accuracy: 0.9987\n",
      "Epoch 30/100\n",
      "300000/300000 [==============================] - 256s 853us/step - loss: 0.0056 - accuracy: 0.9983\n",
      "Epoch 31/100\n",
      "300000/300000 [==============================] - 257s 857us/step - loss: 0.0044 - accuracy: 0.9987\n",
      "Epoch 32/100\n",
      "300000/300000 [==============================] - 257s 857us/step - loss: 0.0038 - accuracy: 0.9988\n",
      "Epoch 33/100\n",
      "300000/300000 [==============================] - 256s 853us/step - loss: 0.0047 - accuracy: 0.9986\n",
      "Epoch 34/100\n",
      "300000/300000 [==============================] - 255s 851us/step - loss: 0.0045 - accuracy: 0.9987\n",
      "Epoch 35/100\n",
      "300000/300000 [==============================] - 257s 856us/step - loss: 0.0026 - accuracy: 0.9991\n",
      "Epoch 36/100\n",
      "300000/300000 [==============================] - 257s 856us/step - loss: 0.0038 - accuracy: 0.9989\n",
      "Epoch 37/100\n",
      "300000/300000 [==============================] - 256s 852us/step - loss: 0.0040 - accuracy: 0.9988\n",
      "Epoch 38/100\n",
      "300000/300000 [==============================] - 257s 856us/step - loss: 0.0040 - accuracy: 0.9989\n",
      "Epoch 39/100\n",
      "300000/300000 [==============================] - 257s 858us/step - loss: 0.0040 - accuracy: 0.9988\n",
      "Epoch 40/100\n",
      "300000/300000 [==============================] - 257s 856us/step - loss: 0.0033 - accuracy: 0.9990\n",
      "Epoch 41/100\n",
      "300000/300000 [==============================] - 257s 855us/step - loss: 0.0035 - accuracy: 0.9990\n",
      "Epoch 42/100\n",
      "300000/300000 [==============================] - 257s 858us/step - loss: 0.0030 - accuracy: 0.9991\n",
      "Epoch 43/100\n",
      "300000/300000 [==============================] - 256s 855us/step - loss: 0.0027 - accuracy: 0.9992\n",
      "Epoch 44/100\n",
      "300000/300000 [==============================] - 257s 856us/step - loss: 0.0032 - accuracy: 0.9991\n",
      "Epoch 45/100\n",
      "300000/300000 [==============================] - 258s 859us/step - loss: 0.0018 - accuracy: 0.9995\n",
      "Epoch 46/100\n",
      "300000/300000 [==============================] - 266s 888us/step - loss: 0.0027 - accuracy: 0.9992\n",
      "Epoch 47/100\n",
      "300000/300000 [==============================] - 272s 905us/step - loss: 0.0029 - accuracy: 0.9992\n",
      "Epoch 48/100\n",
      "300000/300000 [==============================] - 272s 906us/step - loss: 0.0029 - accuracy: 0.9992\n",
      "Epoch 49/100\n",
      "300000/300000 [==============================] - 271s 905us/step - loss: 0.0026 - accuracy: 0.9993\n",
      "Epoch 50/100\n",
      "300000/300000 [==============================] - 272s 905us/step - loss: 0.0026 - accuracy: 0.9993\n",
      "Epoch 51/100\n",
      "300000/300000 [==============================] - 271s 905us/step - loss: 0.0024 - accuracy: 0.9993\n",
      "Epoch 52/100\n",
      "300000/300000 [==============================] - 270s 901us/step - loss: 0.0025 - accuracy: 0.9992\n",
      "Epoch 53/100\n",
      "300000/300000 [==============================] - 257s 856us/step - loss: 0.0026 - accuracy: 0.9992\n",
      "Epoch 54/100\n",
      "300000/300000 [==============================] - 257s 857us/step - loss: 0.0019 - accuracy: 0.9995\n",
      "Epoch 55/100\n",
      "300000/300000 [==============================] - 256s 855us/step - loss: 0.0031 - accuracy: 0.9991\n",
      "Epoch 56/100\n",
      "300000/300000 [==============================] - 256s 855us/step - loss: 0.0023 - accuracy: 0.9993\n",
      "Epoch 57/100\n",
      "300000/300000 [==============================] - 257s 856us/step - loss: 0.0026 - accuracy: 0.9993\n",
      "Epoch 58/100\n",
      "300000/300000 [==============================] - 256s 853us/step - loss: 0.0014 - accuracy: 0.9996\n",
      "Epoch 59/100\n",
      "300000/300000 [==============================] - 256s 855us/step - loss: 0.0033 - accuracy: 0.9991\n",
      "Epoch 60/100\n",
      "300000/300000 [==============================] - 257s 856us/step - loss: 0.0021 - accuracy: 0.9994\n",
      "Epoch 61/100\n",
      "300000/300000 [==============================] - 257s 857us/step - loss: 0.0018 - accuracy: 0.9995\n",
      "Epoch 62/100\n",
      "300000/300000 [==============================] - 257s 855us/step - loss: 0.0013 - accuracy: 0.9997\n",
      "Epoch 63/100\n",
      "300000/300000 [==============================] - 256s 855us/step - loss: 0.0019 - accuracy: 0.9994\n",
      "Epoch 64/100\n",
      "300000/300000 [==============================] - 257s 856us/step - loss: 0.0022 - accuracy: 0.9994\n",
      "Epoch 65/100\n",
      "300000/300000 [==============================] - 256s 854us/step - loss: 0.0018 - accuracy: 0.9995\n",
      "Epoch 66/100\n",
      "300000/300000 [==============================] - 257s 857us/step - loss: 0.0017 - accuracy: 0.9995\n",
      "Epoch 67/100\n",
      "300000/300000 [==============================] - 257s 856us/step - loss: 0.0018 - accuracy: 0.9995\n",
      "Epoch 68/100\n",
      "300000/300000 [==============================] - 257s 857us/step - loss: 0.0022 - accuracy: 0.9994\n",
      "Epoch 69/100\n",
      "300000/300000 [==============================] - 257s 857us/step - loss: 0.0021 - accuracy: 0.9994\n",
      "Epoch 70/100\n",
      "300000/300000 [==============================] - 256s 855us/step - loss: 0.0013 - accuracy: 0.9996\n",
      "Epoch 71/100\n",
      "300000/300000 [==============================] - 257s 857us/step - loss: 0.0017 - accuracy: 0.9995\n",
      "Epoch 72/100\n",
      "300000/300000 [==============================] - 257s 855us/step - loss: 0.0012 - accuracy: 0.9996\n",
      "Epoch 73/100\n",
      "300000/300000 [==============================] - 257s 858us/step - loss: 0.0022 - accuracy: 0.9994\n",
      "Epoch 74/100\n",
      "300000/300000 [==============================] - 257s 857us/step - loss: 0.0019 - accuracy: 0.9995\n",
      "Epoch 75/100\n",
      "300000/300000 [==============================] - 257s 857us/step - loss: 0.0016 - accuracy: 0.9995\n",
      "Epoch 76/100\n",
      "300000/300000 [==============================] - 258s 859us/step - loss: 0.0016 - accuracy: 0.9995\n",
      "Epoch 77/100\n",
      "300000/300000 [==============================] - 257s 858us/step - loss: 0.0014 - accuracy: 0.9996\n",
      "Epoch 78/100\n",
      "300000/300000 [==============================] - 257s 858us/step - loss: 0.0031 - accuracy: 0.9992\n",
      "Epoch 79/100\n",
      "300000/300000 [==============================] - 257s 858us/step - loss: 0.0020 - accuracy: 0.9994\n",
      "Epoch 80/100\n",
      "300000/300000 [==============================] - 258s 859us/step - loss: 9.1947e-04 - accuracy: 0.9997\n",
      "Epoch 81/100\n",
      "300000/300000 [==============================] - 258s 860us/step - loss: 4.8038e-04 - accuracy: 0.9999\n",
      "Epoch 82/100\n",
      "300000/300000 [==============================] - 258s 860us/step - loss: 0.0017 - accuracy: 0.9995\n",
      "Epoch 83/100\n",
      "300000/300000 [==============================] - 258s 860us/step - loss: 0.0021 - accuracy: 0.9995\n",
      "Epoch 84/100\n",
      "300000/300000 [==============================] - 258s 859us/step - loss: 0.0015 - accuracy: 0.9996\n",
      "Epoch 85/100\n",
      "300000/300000 [==============================] - 257s 856us/step - loss: 9.9274e-04 - accuracy: 0.9997\n",
      "Epoch 86/100\n",
      "300000/300000 [==============================] - 258s 859us/step - loss: 0.0023 - accuracy: 0.9994\n",
      "Epoch 87/100\n",
      "300000/300000 [==============================] - 258s 860us/step - loss: 0.0015 - accuracy: 0.9996\n",
      "Epoch 88/100\n",
      "300000/300000 [==============================] - 259s 862us/step - loss: 0.0015 - accuracy: 0.9996\n",
      "Epoch 89/100\n",
      "300000/300000 [==============================] - 258s 861us/step - loss: 0.0016 - accuracy: 0.9996\n",
      "Epoch 90/100\n",
      "300000/300000 [==============================] - 257s 858us/step - loss: 0.0011 - accuracy: 0.9997\n",
      "Epoch 91/100\n",
      "300000/300000 [==============================] - 257s 857us/step - loss: 0.0024 - accuracy: 0.9993\n",
      "Epoch 92/100\n",
      "300000/300000 [==============================] - 257s 855us/step - loss: 0.0015 - accuracy: 0.9996\n",
      "Epoch 93/100\n",
      "300000/300000 [==============================] - 257s 857us/step - loss: 8.0358e-04 - accuracy: 0.9998\n",
      "Epoch 94/100\n",
      "300000/300000 [==============================] - 257s 858us/step - loss: 8.9849e-04 - accuracy: 0.9998\n",
      "Epoch 95/100\n",
      "300000/300000 [==============================] - 258s 860us/step - loss: 0.0013 - accuracy: 0.9997\n",
      "Epoch 96/100\n",
      "300000/300000 [==============================] - 257s 858us/step - loss: 0.0014 - accuracy: 0.9996\n",
      "Epoch 97/100\n",
      "300000/300000 [==============================] - 258s 859us/step - loss: 0.0012 - accuracy: 0.9997\n",
      "Epoch 98/100\n",
      "300000/300000 [==============================] - 258s 860us/step - loss: 0.0016 - accuracy: 0.9996\n",
      "Epoch 99/100\n",
      "300000/300000 [==============================] - 258s 861us/step - loss: 0.0018 - accuracy: 0.9995\n",
      "Epoch 100/100\n",
      "300000/300000 [==============================] - 258s 859us/step - loss: 0.0012 - accuracy: 0.9997\n"
     ]
    },
    {
     "data": {
      "text/plain": [
       "<keras.callbacks.callbacks.History at 0x220f39d5c18>"
      ]
     },
     "execution_count": 70,
     "metadata": {},
     "output_type": "execute_result"
    }
   ],
   "source": [
    "model6.compile(optimizer='adam',\n",
    "               loss='sparse_categorical_crossentropy',\n",
    "               metrics=['accuracy'])\n",
    "model6.fit(extra_train_x, extra_train_y, batch_size=1000, epochs=100)"
   ]
  },
  {
   "cell_type": "code",
   "execution_count": 71,
   "metadata": {},
   "outputs": [
    {
     "name": "stdout",
     "output_type": "stream",
     "text": [
      "10000/10000 [==============================] - 5s 501us/step\n"
     ]
    },
    {
     "data": {
      "text/plain": [
       "[0.05039574176039329, 0.9943000078201294]"
      ]
     },
     "execution_count": 71,
     "metadata": {},
     "output_type": "execute_result"
    }
   ],
   "source": [
    "model6.evaluate(x_test, y_test)"
   ]
  },
  {
   "cell_type": "code",
   "execution_count": 77,
   "metadata": {},
   "outputs": [],
   "source": [
    "model7a = Sequential()\n",
    "model7a.add(Conv2D(32, 3, activation='relu', padding='same', input_shape=(28,28,1)))\n",
    "model7a.add(Conv2D(32, 3, activation='relu', padding='same', input_shape=(26,26,1)))\n",
    "model7a.add(Conv2D(32, 3, activation='relu', padding='same', input_shape=(24,24,1)))\n",
    "model7a.add(Conv2D(32, 3, activation='relu', padding='same', input_shape=(22,22,1)))\n",
    "model7a.add(Conv2D(32, 3, activation='relu', padding='same', input_shape=(20,20,1)))\n",
    "model7a.add(Conv2D(32, 3, activation='relu', padding='same', input_shape=(18,18,1)))\n",
    "model7a.add(Conv2D(32, 3, activation='relu', padding='same', input_shape=(16,16,1)))\n",
    "model7a.add(Conv2D(32, 3, activation='relu', padding='same', input_shape=(14,14,1)))\n",
    "model7a.add(Conv2D(32, 3, activation='relu', padding='same', input_shape=(12,12,1)))\n",
    "model7a.add(Conv2D(32, 3, activation='relu', padding='same', input_shape=(10,10,1)))\n",
    "model7a.add(Conv2D(32, 3, activation='relu', padding='same', input_shape=(8,8,1)))\n",
    "model7a.add(Conv2D(32, 3, activation='relu', padding='same', input_shape=(6,6,1)))\n",
    "model7a.add(Conv2D(32, 3, activation='relu', padding='same', input_shape=(4,4,1)))\n",
    "model7a.add(Flatten())\n",
    "model7a.add(Dense(256, activation='relu'))\n",
    "model7a.add(Dropout(0.5))\n",
    "model7a.add(Dense(10, activation='softmax'))"
   ]
  },
  {
   "cell_type": "code",
   "execution_count": 78,
   "metadata": {},
   "outputs": [
    {
     "name": "stdout",
     "output_type": "stream",
     "text": [
      "Epoch 1/10\n",
      "60000/60000 [==============================] - 41s 686us/step - loss: 0.2221 - accuracy: 0.9319\n",
      "Epoch 2/10\n",
      "60000/60000 [==============================] - 40s 671us/step - loss: 0.0675 - accuracy: 0.9807\n",
      "Epoch 3/10\n",
      "60000/60000 [==============================] - 40s 671us/step - loss: 0.0468 - accuracy: 0.9858\n",
      "Epoch 4/10\n",
      "60000/60000 [==============================] - 40s 669us/step - loss: 0.0375 - accuracy: 0.9890\n",
      "Epoch 5/10\n",
      "60000/60000 [==============================] - 40s 669us/step - loss: 0.0313 - accuracy: 0.9907\n",
      "Epoch 6/10\n",
      "60000/60000 [==============================] - 40s 669us/step - loss: 0.0282 - accuracy: 0.9913\n",
      "Epoch 7/10\n",
      "60000/60000 [==============================] - 40s 667us/step - loss: 0.0225 - accuracy: 0.9933\n",
      "Epoch 8/10\n",
      "60000/60000 [==============================] - 40s 667us/step - loss: 0.0190 - accuracy: 0.9939\n",
      "Epoch 9/10\n",
      "60000/60000 [==============================] - 40s 668us/step - loss: 0.0213 - accuracy: 0.9933\n",
      "Epoch 10/10\n",
      "60000/60000 [==============================] - 40s 669us/step - loss: 0.0175 - accuracy: 0.9946\n"
     ]
    },
    {
     "data": {
      "text/plain": [
       "<keras.callbacks.callbacks.History at 0x220119f87f0>"
      ]
     },
     "execution_count": 78,
     "metadata": {},
     "output_type": "execute_result"
    }
   ],
   "source": [
    "model7a.compile(optimizer='adam', loss='sparse_categorical_crossentropy', metrics=['accuracy'])\n",
    "model7a.fit(x_train, y_train, batch_size=200, epochs=10)"
   ]
  },
  {
   "cell_type": "code",
   "execution_count": 79,
   "metadata": {},
   "outputs": [
    {
     "name": "stdout",
     "output_type": "stream",
     "text": [
      "10000/10000 [==============================] - 3s 327us/step\n"
     ]
    },
    {
     "data": {
      "text/plain": [
       "[0.025978392983453523, 0.991599977016449]"
      ]
     },
     "execution_count": 79,
     "metadata": {},
     "output_type": "execute_result"
    }
   ],
   "source": [
    "model7a.evaluate(x_test, y_test)"
   ]
  },
  {
   "cell_type": "code",
   "execution_count": 115,
   "metadata": {},
   "outputs": [],
   "source": [
    "inputs = keras.Input(shape=input_shape)\n",
    "x = ResNetUnit(inputs, 64, 3, padding='valid')\n",
    "x = MaxPooling2D(2)(x)\n",
    "x = ResNetUnit(x, 64, 3, padding='valid')\n",
    "y = ResNetUnit(inputs, 32, 7, padding='valid')\n",
    "y = MaxPooling2D(2)(y)\n",
    "z = ResNetUnit(inputs, 16, 11, padding='valid')\n",
    "#print(x.shape)\n",
    "#print(y.shape)\n",
    "#print(z.shape)\n",
    "w = Concatenate()([x, y, z])\n",
    "w = Flatten()(w)\n",
    "w = Dense(512, activation='relu')(w)\n",
    "w = Dropout(0.5)(w)\n",
    "outputs = Dense(10, activation='softmax')(w)\n",
    "model8 = keras.Model(inputs, outputs)"
   ]
  },
  {
   "cell_type": "code",
   "execution_count": 116,
   "metadata": {},
   "outputs": [
    {
     "name": "stdout",
     "output_type": "stream",
     "text": [
      "Epoch 1/10\n",
      "60000/60000 [==============================] - 39s 646us/step - loss: 0.7570 - accuracy: 0.8684\n",
      "Epoch 2/10\n",
      "60000/60000 [==============================] - 36s 597us/step - loss: 0.0975 - accuracy: 0.9724\n",
      "Epoch 3/10\n",
      "60000/60000 [==============================] - 36s 597us/step - loss: 0.0658 - accuracy: 0.9810\n",
      "Epoch 4/10\n",
      "60000/60000 [==============================] - 36s 597us/step - loss: 0.0520 - accuracy: 0.9843\n",
      "Epoch 5/10\n",
      "60000/60000 [==============================] - 36s 595us/step - loss: 0.0419 - accuracy: 0.9879\n",
      "Epoch 6/10\n",
      "60000/60000 [==============================] - 36s 596us/step - loss: 0.0362 - accuracy: 0.9895\n",
      "Epoch 7/10\n",
      "60000/60000 [==============================] - 36s 595us/step - loss: 0.0344 - accuracy: 0.9900\n",
      "Epoch 8/10\n",
      "60000/60000 [==============================] - 36s 594us/step - loss: 0.0308 - accuracy: 0.9908\n",
      "Epoch 9/10\n",
      "60000/60000 [==============================] - 36s 596us/step - loss: 0.0282 - accuracy: 0.9915\n",
      "Epoch 10/10\n",
      "60000/60000 [==============================] - 36s 596us/step - loss: 0.0232 - accuracy: 0.9928\n",
      "10000/10000 [==============================] - 4s 386us/step\n"
     ]
    },
    {
     "data": {
      "text/plain": [
       "[0.05592482680416167, 0.9847999811172485]"
      ]
     },
     "execution_count": 116,
     "metadata": {},
     "output_type": "execute_result"
    }
   ],
   "source": [
    "model8.compile(optimizer='adam', loss='sparse_categorical_crossentropy', metrics=['accuracy'])\n",
    "model8.fit(x_train, y_train, batch_size=500, epochs=10)\n",
    "model8.evaluate(x_test, y_test)"
   ]
  },
  {
   "cell_type": "code",
   "execution_count": 120,
   "metadata": {},
   "outputs": [
    {
     "name": "stdout",
     "output_type": "stream",
     "text": [
      "(None, 4, 4, 64) (None, 4, 4, 64) (None, 4, 4, 64)\n"
     ]
    }
   ],
   "source": [
    "inputs = keras.Input(shape=(28,28,1))\n",
    "x = ResNetUnit(inputs, 64, 3, padding='valid') # 24\n",
    "x = ResNetUnit(x, 64, 3, padding='valid') # 20\n",
    "x = ResNetUnit(x, 64, 3, padding='valid') # 16\n",
    "x = ResNetUnit(x, 64, 3, padding='valid') # 12\n",
    "x = ResNetUnit(x, 64, 3, padding='valid') # 8\n",
    "x = ResNetUnit(x, 64, 3, padding='valid') # 4\n",
    "y = ResNetUnit(inputs, 64, 7, padding='valid') # 16\n",
    "y = ResNetUnit(y, 64, 7, padding='valid') # 4\n",
    "z = ResNetUnit(inputs, 64, 11, padding='valid') # 8\n",
    "z = ResNetUnit(z, 64, 3, padding='valid') # 4\n",
    "print(x.shape, y.shape, z.shape)\n",
    "w = Concatenate()([x, y, z])\n",
    "w = Flatten()(w)\n",
    "w = Dense(512, activation='relu')(w)\n",
    "w = Dropout(0.5)(w)\n",
    "outputs = Dense(10, activation='softmax')(w)\n",
    "model9 = keras.Model(inputs, outputs)"
   ]
  },
  {
   "cell_type": "code",
   "execution_count": 122,
   "metadata": {},
   "outputs": [
    {
     "name": "stdout",
     "output_type": "stream",
     "text": [
      "Epoch 1/50\n",
      "60000/60000 [==============================] - 104s 2ms/step - loss: 0.1386 - accuracy: 0.9617\n",
      "Epoch 2/50\n",
      "60000/60000 [==============================] - 100s 2ms/step - loss: 0.0651 - accuracy: 0.9815\n",
      "Epoch 3/50\n",
      "60000/60000 [==============================] - 102s 2ms/step - loss: 0.0485 - accuracy: 0.9863\n",
      "Epoch 4/50\n",
      "60000/60000 [==============================] - 103s 2ms/step - loss: 0.0387 - accuracy: 0.9891\n",
      "Epoch 5/50\n",
      "60000/60000 [==============================] - 104s 2ms/step - loss: 0.0313 - accuracy: 0.9911\n",
      "Epoch 6/50\n",
      "60000/60000 [==============================] - 104s 2ms/step - loss: 0.0315 - accuracy: 0.9911\n",
      "Epoch 7/50\n",
      "60000/60000 [==============================] - 103s 2ms/step - loss: 0.0260 - accuracy: 0.9922\n",
      "Epoch 8/50\n",
      "60000/60000 [==============================] - 103s 2ms/step - loss: 0.0273 - accuracy: 0.9921\n",
      "Epoch 9/50\n",
      "60000/60000 [==============================] - 104s 2ms/step - loss: 0.0226 - accuracy: 0.9933\n",
      "Epoch 10/50\n",
      "60000/60000 [==============================] - 103s 2ms/step - loss: 0.0179 - accuracy: 0.9945\n",
      "Epoch 11/50\n",
      "60000/60000 [==============================] - 103s 2ms/step - loss: 0.0157 - accuracy: 0.9952\n",
      "Epoch 12/50\n",
      "60000/60000 [==============================] - 103s 2ms/step - loss: 0.0184 - accuracy: 0.9945\n",
      "Epoch 13/50\n",
      "60000/60000 [==============================] - 103s 2ms/step - loss: 0.0176 - accuracy: 0.9948\n",
      "Epoch 14/50\n",
      "60000/60000 [==============================] - 103s 2ms/step - loss: 0.0155 - accuracy: 0.9955\n",
      "Epoch 15/50\n",
      "60000/60000 [==============================] - 103s 2ms/step - loss: 0.0121 - accuracy: 0.9964\n",
      "Epoch 16/50\n",
      "60000/60000 [==============================] - 103s 2ms/step - loss: 0.0153 - accuracy: 0.9957\n",
      "Epoch 17/50\n",
      "60000/60000 [==============================] - 103s 2ms/step - loss: 0.0162 - accuracy: 0.9954\n",
      "Epoch 18/50\n",
      "60000/60000 [==============================] - 107s 2ms/step - loss: 0.0132 - accuracy: 0.9966\n",
      "Epoch 19/50\n",
      "60000/60000 [==============================] - 109s 2ms/step - loss: 0.0118 - accuracy: 0.9964\n",
      "Epoch 20/50\n",
      "60000/60000 [==============================] - 109s 2ms/step - loss: 0.0104 - accuracy: 0.9972\n",
      "Epoch 21/50\n",
      "60000/60000 [==============================] - 110s 2ms/step - loss: 0.0098 - accuracy: 0.9976\n",
      "Epoch 22/50\n",
      "60000/60000 [==============================] - 110s 2ms/step - loss: 0.0106 - accuracy: 0.9971\n",
      "Epoch 23/50\n",
      "60000/60000 [==============================] - 111s 2ms/step - loss: 0.0113 - accuracy: 0.9968\n",
      "Epoch 24/50\n",
      "60000/60000 [==============================] - 111s 2ms/step - loss: 0.0085 - accuracy: 0.9974\n",
      "Epoch 25/50\n",
      "60000/60000 [==============================] - 110s 2ms/step - loss: 0.0072 - accuracy: 0.9981\n",
      "Epoch 26/50\n",
      "60000/60000 [==============================] - 110s 2ms/step - loss: 0.0073 - accuracy: 0.9981\n",
      "Epoch 27/50\n",
      "60000/60000 [==============================] - 110s 2ms/step - loss: 0.0080 - accuracy: 0.9979\n",
      "Epoch 28/50\n",
      "60000/60000 [==============================] - 111s 2ms/step - loss: 0.0106 - accuracy: 0.9972\n",
      "Epoch 29/50\n",
      "60000/60000 [==============================] - 111s 2ms/step - loss: 0.0079 - accuracy: 0.9976\n",
      "Epoch 30/50\n",
      "60000/60000 [==============================] - 105s 2ms/step - loss: 0.0068 - accuracy: 0.9983\n",
      "Epoch 31/50\n",
      "60000/60000 [==============================] - 103s 2ms/step - loss: 0.0062 - accuracy: 0.9982\n",
      "Epoch 32/50\n",
      "60000/60000 [==============================] - 103s 2ms/step - loss: 0.0155 - accuracy: 0.9967\n",
      "Epoch 33/50\n",
      "60000/60000 [==============================] - 103s 2ms/step - loss: 0.0070 - accuracy: 0.9978\n",
      "Epoch 34/50\n",
      "60000/60000 [==============================] - 103s 2ms/step - loss: 0.0040 - accuracy: 0.9987\n",
      "Epoch 35/50\n",
      "60000/60000 [==============================] - 104s 2ms/step - loss: 0.0051 - accuracy: 0.9987\n",
      "Epoch 36/50\n",
      "60000/60000 [==============================] - 103s 2ms/step - loss: 0.0082 - accuracy: 0.9981\n",
      "Epoch 37/50\n",
      "60000/60000 [==============================] - 103s 2ms/step - loss: 0.0055 - accuracy: 0.9986\n",
      "Epoch 38/50\n",
      "60000/60000 [==============================] - 103s 2ms/step - loss: 0.0050 - accuracy: 0.9985\n",
      "Epoch 39/50\n",
      "60000/60000 [==============================] - 103s 2ms/step - loss: 0.0067 - accuracy: 0.9985\n",
      "Epoch 40/50\n",
      "60000/60000 [==============================] - 103s 2ms/step - loss: 0.0076 - accuracy: 0.9984\n",
      "Epoch 41/50\n",
      "60000/60000 [==============================] - 103s 2ms/step - loss: 0.0050 - accuracy: 0.9986\n",
      "Epoch 42/50\n",
      "60000/60000 [==============================] - 103s 2ms/step - loss: 0.0076 - accuracy: 0.9983\n",
      "Epoch 43/50\n",
      "60000/60000 [==============================] - 104s 2ms/step - loss: 0.0044 - accuracy: 0.9988\n",
      "Epoch 44/50\n",
      "60000/60000 [==============================] - 103s 2ms/step - loss: 0.0029 - accuracy: 0.9992\n",
      "Epoch 45/50\n",
      "60000/60000 [==============================] - 104s 2ms/step - loss: 0.0047 - accuracy: 0.9988\n",
      "Epoch 46/50\n",
      "60000/60000 [==============================] - 104s 2ms/step - loss: 0.0063 - accuracy: 0.9984\n",
      "Epoch 47/50\n",
      "60000/60000 [==============================] - 104s 2ms/step - loss: 0.0039 - accuracy: 0.9990\n",
      "Epoch 48/50\n",
      "60000/60000 [==============================] - 104s 2ms/step - loss: 0.0038 - accuracy: 0.9990\n",
      "Epoch 49/50\n",
      "60000/60000 [==============================] - 104s 2ms/step - loss: 0.0058 - accuracy: 0.9988\n",
      "Epoch 50/50\n",
      "60000/60000 [==============================] - 103s 2ms/step - loss: 0.0041 - accuracy: 0.9989\n",
      "10000/10000 [==============================] - 9s 863us/step\n"
     ]
    },
    {
     "data": {
      "text/plain": [
       "[0.05033699312680069, 0.9932000041007996]"
      ]
     },
     "execution_count": 122,
     "metadata": {},
     "output_type": "execute_result"
    }
   ],
   "source": [
    "model9.compile(optimizer='adam', loss='sparse_categorical_crossentropy', metrics=['accuracy'])\n",
    "model9.fit(x_train, y_train, batch_size=200, epochs=50)\n",
    "model9.evaluate(x_test, y_test)"
   ]
  },
  {
   "cell_type": "code",
   "execution_count": 123,
   "metadata": {},
   "outputs": [
    {
     "name": "stdout",
     "output_type": "stream",
     "text": [
      "Downloading data from https://www.cs.toronto.edu/~kriz/cifar-10-python.tar.gz\n",
      "170500096/170498071 [==============================] - 345s 2us/step\n"
     ]
    }
   ],
   "source": [
    "#99.48% is still my best. Oh well.\n",
    "# Just curious what happens on data well outside the domain of applicability\n",
    "(train_x_c10, train_y_c10), (test_x_c10, test_y_c10) = tf.keras.datasets.cifar10.load_data()"
   ]
  },
  {
   "cell_type": "code",
   "execution_count": 199,
   "metadata": {},
   "outputs": [
    {
     "name": "stdout",
     "output_type": "stream",
     "text": [
      "9059\n",
      "[0]\n"
     ]
    },
    {
     "data": {
      "text/plain": [
       "<matplotlib.image.AxesImage at 0x22116b732b0>"
      ]
     },
     "execution_count": 199,
     "metadata": {},
     "output_type": "execute_result"
    },
    {
     "data": {
      "image/png": "[encoded data removed]",
      "text/plain": [
       "<Figure size 432x288 with 1 Axes>"
      ]
     },
     "metadata": {
      "needs_background": "light"
     },
     "output_type": "display_data"
    }
   ],
   "source": [
    "# 9059\n",
    "ind = int(random.random()*50000)\n",
    "print(ind)\n",
    "print(train_y_c10[ind])\n",
    "plt.imshow(train_x_c10[ind])"
   ]
  },
  {
   "cell_type": "code",
   "execution_count": 205,
   "metadata": {},
   "outputs": [
    {
     "data": {
      "text/plain": [
       "<matplotlib.image.AxesImage at 0x22116d45710>"
      ]
     },
     "execution_count": 205,
     "metadata": {},
     "output_type": "execute_result"
    },
    {
     "data": {
      "image/png": "[encoded data removed]",
      "text/plain": [
       "<Figure size 432x288 with 1 Axes>"
      ]
     },
     "metadata": {
      "needs_background": "light"
     },
     "output_type": "display_data"
    }
   ],
   "source": [
    "croppedR = train_x_c10[ind][2:30,2:30,0]\n",
    "croppedG = train_x_c10[ind][2:30,2:30,1]\n",
    "croppedB = train_x_c10[ind][2:30,2:30,2]\n",
    "plt.imshow(croppedG, cmap='Greys')"
   ]
  },
  {
   "cell_type": "code",
   "execution_count": 201,
   "metadata": {},
   "outputs": [
    {
     "name": "stdout",
     "output_type": "stream",
     "text": [
      "[[0. 0. 0. 1. 0. 0. 0. 0. 0. 0.]]\n",
      "[[0. 1. 0. 0. 0. 0. 0. 0. 0. 0.]]\n",
      "[[1. 0. 0. 0. 0. 0. 0. 0. 0. 0.]]\n"
     ]
    }
   ],
   "source": [
    "# Pretty much always classifies with 1 in the predicted class and 0 everywhere else.\n",
    "# This is an interesting example in that all three color channels have different predictions.\n",
    "print(np.round(model9.predict(croppedR.reshape(1,28,28,1)), 2))\n",
    "print(np.round(model9.predict(croppedG.reshape(1,28,28,1)), 2))\n",
    "print(np.round(model9.predict(croppedB.reshape(1,28,28,1)), 2))"
   ]
  },
  {
   "cell_type": "code",
   "execution_count": 247,
   "metadata": {},
   "outputs": [],
   "source": [
    "# Let's try adding a new non-digit class.\n",
    "train_x_cc = np.asarray([train_x_c10[i][2:30,2:30,1] for i in range(50000)]).reshape(50000, 28, 28, 1).astype('float32')\n",
    "train_x_cc /= 255.0\n",
    "train_y_cc = np.asarray([10 for i in range(50000)])"
   ]
  },
  {
   "cell_type": "code",
   "execution_count": 248,
   "metadata": {},
   "outputs": [
    {
     "name": "stdout",
     "output_type": "stream",
     "text": [
      "(110000, 28, 28, 1)\n",
      "(110000,)\n"
     ]
    }
   ],
   "source": [
    "train_aug_x = np.concatenate((x_train, train_x_cc))\n",
    "print(train_aug_x.shape)\n",
    "train_aug_y = np.concatenate((y_train, train_y_cc))\n",
    "print(train_aug_y.shape)"
   ]
  },
  {
   "cell_type": "code",
   "execution_count": 249,
   "metadata": {},
   "outputs": [],
   "source": [
    "inputs = keras.Input(shape=(28,28,1))\n",
    "x = Conv2D(32, 3, activation='relu', input_shape=input_shape)(inputs)\n",
    "x = Conv2D(64, 3, activation='relu')(x)\n",
    "x = MaxPooling2D(2)(x)\n",
    "x = ResNetUnit(x)\n",
    "x = ResNetUnit(x)\n",
    "x = ResNetUnit(x)\n",
    "x = Flatten()(x)\n",
    "x = Dense(256, activation='relu')(x)\n",
    "x = Dropout(0.5)(x)\n",
    "outputs = Dense(11, activation='softmax')(x)\n",
    "model10 = keras.Model(inputs, outputs)"
   ]
  },
  {
   "cell_type": "code",
   "execution_count": 250,
   "metadata": {},
   "outputs": [
    {
     "name": "stdout",
     "output_type": "stream",
     "text": [
      "Epoch 1/10\n",
      "110000/110000 [==============================] - 50s 458us/step - loss: 0.2913 - accuracy: 0.9264\n",
      "Epoch 2/10\n",
      "110000/110000 [==============================] - 49s 446us/step - loss: 0.0645 - accuracy: 0.9820\n",
      "Epoch 3/10\n",
      "110000/110000 [==============================] - 49s 445us/step - loss: 0.0410 - accuracy: 0.9885\n",
      "Epoch 4/10\n",
      "110000/110000 [==============================] - 49s 445us/step - loss: 0.0310 - accuracy: 0.9915\n",
      "Epoch 5/10\n",
      "110000/110000 [==============================] - 49s 444us/step - loss: 0.0253 - accuracy: 0.9931\n",
      "Epoch 6/10\n",
      "110000/110000 [==============================] - 49s 444us/step - loss: 0.0227 - accuracy: 0.9937\n",
      "Epoch 7/10\n",
      "110000/110000 [==============================] - 49s 445us/step - loss: 0.0196 - accuracy: 0.9945\n",
      "Epoch 8/10\n",
      "110000/110000 [==============================] - 49s 445us/step - loss: 0.0193 - accuracy: 0.9946\n",
      "Epoch 9/10\n",
      "110000/110000 [==============================] - 49s 444us/step - loss: 0.0289 - accuracy: 0.9925\n",
      "Epoch 10/10\n",
      "110000/110000 [==============================] - 49s 444us/step - loss: 0.0169 - accuracy: 0.9953\n"
     ]
    },
    {
     "data": {
      "text/plain": [
       "<keras.callbacks.callbacks.History at 0x22100d10e10>"
      ]
     },
     "execution_count": 250,
     "metadata": {},
     "output_type": "execute_result"
    }
   ],
   "source": [
    "model10.compile(optimizer='adam', loss='sparse_categorical_crossentropy', metrics=['accuracy'])\n",
    "model10.fit(train_aug_x, train_aug_y, batch_size=200, epochs=10)"
   ]
  },
  {
   "cell_type": "code",
   "execution_count": 251,
   "metadata": {},
   "outputs": [],
   "source": [
    "test_x_cc = np.asarray([test_x_c10[i][2:30,2:30,1] for i in range(10000)]).reshape(10000, 28, 28, 1).astype('float32')\n",
    "test_x_cc /= 255.0\n",
    "test_y_cc = np.asarray([10 for i in range(10000)])\n",
    "test_aug_x = np.concatenate((x_test, test_x_cc))\n",
    "test_aug_y = np.concatenate((y_test, test_y_cc))"
   ]
  },
  {
   "cell_type": "code",
   "execution_count": 252,
   "metadata": {},
   "outputs": [
    {
     "name": "stdout",
     "output_type": "stream",
     "text": [
      "20000/20000 [==============================] - 5s 258us/step\n"
     ]
    },
    {
     "data": {
      "text/plain": [
       "[0.015903293651354396, 0.9961000084877014]"
      ]
     },
     "execution_count": 252,
     "metadata": {},
     "output_type": "execute_result"
    }
   ],
   "source": [
    "# 99.61%, not bad!\n",
    "model10.evaluate(test_aug_x, test_aug_y)"
   ]
  },
  {
   "cell_type": "code",
   "execution_count": 354,
   "metadata": {},
   "outputs": [
    {
     "data": {
      "text/plain": [
       "[<matplotlib.lines.Line2D at 0x221282eac50>]"
      ]
     },
     "execution_count": 354,
     "metadata": {},
     "output_type": "execute_result"
    },
    {
     "data": {
      "image/png": "[encoded data removed]",
      "text/plain": [
       "<Figure size 432x288 with 2 Axes>"
      ]
     },
     "metadata": {
      "needs_background": "light"
     },
     "output_type": "display_data"
    }
   ],
   "source": [
    "# Still doesn't do well on noisy digits.\n",
    "testimg = 11*test_aug_x[0] + 1*test_aug_x[10000]\n",
    "testimg = testimg/np.max(testimg)\n",
    "pred = np.round(model10.predict(testimg.reshape(1,28,28,1)), 2).reshape(11)\n",
    "f, (ax1, ax2) = plt.subplots(1,2)\n",
    "ax1.imshow(testimg.reshape(28,28), cmap='Greys')\n",
    "ax2.plot(pred)"
   ]
  },
  {
   "cell_type": "code",
   "execution_count": 307,
   "metadata": {},
   "outputs": [
    {
     "name": "stdout",
     "output_type": "stream",
     "text": [
      "10000/10000 [==============================] - 2s 248us/step\n"
     ]
    },
    {
     "data": {
      "text/plain": [
       "[0.03172433795391189, 0.9922000169754028]"
      ]
     },
     "execution_count": 307,
     "metadata": {},
     "output_type": "execute_result"
    }
   ],
   "source": [
    "# How does it do on just the digits? 99.22%\n",
    "model10.evaluate(x_test, y_test)"
   ]
  },
  {
   "cell_type": "code",
   "execution_count": 361,
   "metadata": {},
   "outputs": [],
   "source": [
    "# Cross-validation\n",
    "x_combined = np.concatenate((x_train, x_test))\n",
    "y_combined = np.concatenate((y_train, y_test))\n",
    "num_folds = 10"
   ]
  },
  {
   "cell_type": "code",
   "execution_count": 386,
   "metadata": {},
   "outputs": [],
   "source": [
    "# I feel like there should be a way to do this in the library to begin with.\n",
    "# Turns out this is broken anyway.\n",
    "def reset_weights(model):\n",
    "    for layer in model.layers: \n",
    "        if isinstance(layer, tf.keras.Model):\n",
    "            reset_weights(layer)\n",
    "        continue\n",
    "    for k, initializer in layer.__dict__.items():\n",
    "        if \"initializer\" not in k:\n",
    "            continue\n",
    "        var = getattr(layer, k.replace(\"_initializer\", \"\"))\n",
    "        var.assign(initializer(var.shape, var.dtype))"
   ]
  },
  {
   "cell_type": "code",
   "execution_count": 402,
   "metadata": {},
   "outputs": [],
   "source": [
    "def crossvalidate(model, x_data, y_data, folds, batch_size=200, epochs=20, seed=0):\n",
    "    # Assume model hasn't been trained yet, because weight resetting doesn't work.\n",
    "    np.random.seed(seed)\n",
    "    model.save_weights('initial.h5')\n",
    "    size = len(x_data)\n",
    "    losses = []\n",
    "    accuracies = []\n",
    "    avgloss = 0\n",
    "    avgacc = 0\n",
    "    for i in range(folds):\n",
    "        # reset_weights(model)\n",
    "        model.load_weights('initial.h5')\n",
    "        model.compile(optimizer='adam', loss='sparse_categorical_crossentropy', metrics=['accuracy'])\n",
    "        start_index = int(size*i/folds)\n",
    "        end_index = int(size*(i+1)/folds)\n",
    "        print('Fold {}: {} - {}'.format(i, start_index, end_index))\n",
    "        xtest = x_data[start_index:end_index]\n",
    "        ytest = y_data[start_index:end_index]\n",
    "        xtrain = np.concatenate((x_data[0:start_index], x_data[end_index:size]))\n",
    "        ytrain = np.concatenate((y_data[0:start_index], y_data[end_index:size]))\n",
    "        model.fit(xtrain, ytrain, batch_size=batch_size, epochs=epochs)\n",
    "        scores = model.evaluate(xtest, ytest)\n",
    "        losses.append(scores[0])\n",
    "        accuracies.append(scores[1])\n",
    "        print(scores[1])\n",
    "        avgloss += scores[0]\n",
    "        avgacc += scores[1]\n",
    "    avgloss /= folds\n",
    "    avgacc /= folds\n",
    "    sstdev = 0\n",
    "    for i in range(folds):\n",
    "        sstdev += (accuracies[i] - avgacc)**2\n",
    "    sstdev = (sstdev/(folds-1))**0.5\n",
    "    print('Average accuracy with {}-fold cross-validation: {:.5f} \\u00b1 {:.5f}'.format(folds, avgacc, sstdev))\n",
    "    return (avgacc, losses, accuracies)"
   ]
  },
  {
   "cell_type": "code",
   "execution_count": 403,
   "metadata": {
    "scrolled": false
   },
   "outputs": [
    {
     "name": "stdout",
     "output_type": "stream",
     "text": [
      "Fold 0: 0 - 7000\n",
      "Epoch 1/5\n",
      "63000/63000 [==============================] - 28s 450us/step - loss: 0.0590 - accuracy: 0.9821\n",
      "Epoch 2/5\n",
      "63000/63000 [==============================] - 27s 429us/step - loss: 0.0327 - accuracy: 0.9901\n",
      "Epoch 3/5\n",
      "63000/63000 [==============================] - 27s 429us/step - loss: 0.0253 - accuracy: 0.9922\n",
      "Epoch 4/5\n",
      "63000/63000 [==============================] - 27s 429us/step - loss: 0.0200 - accuracy: 0.9939\n",
      "Epoch 5/5\n",
      "63000/63000 [==============================] - 27s 429us/step - loss: 0.0166 - accuracy: 0.9946\n",
      "7000/7000 [==============================] - 2s 238us/step\n",
      "0.9932857155799866\n",
      "Fold 1: 7000 - 14000\n",
      "Epoch 1/5\n",
      "63000/63000 [==============================] - 28s 449us/step - loss: 0.0569 - accuracy: 0.9823\n",
      "Epoch 2/5\n",
      "63000/63000 [==============================] - 27s 428us/step - loss: 0.0342 - accuracy: 0.9899\n",
      "Epoch 3/5\n",
      "63000/63000 [==============================] - 27s 428us/step - loss: 0.0243 - accuracy: 0.9925\n",
      "Epoch 4/5\n",
      "63000/63000 [==============================] - 27s 428us/step - loss: 0.0205 - accuracy: 0.9934\n",
      "Epoch 5/5\n",
      "63000/63000 [==============================] - 27s 427us/step - loss: 0.0191 - accuracy: 0.9936\n",
      "7000/7000 [==============================] - 2s 247us/step\n",
      "0.9918571710586548\n",
      "Fold 2: 14000 - 21000\n",
      "Epoch 1/5\n",
      "63000/63000 [==============================] - 28s 445us/step - loss: 0.0596 - accuracy: 0.9819\n",
      "Epoch 2/5\n",
      "63000/63000 [==============================] - 27s 426us/step - loss: 0.0347 - accuracy: 0.9892\n",
      "Epoch 3/5\n",
      "63000/63000 [==============================] - 27s 426us/step - loss: 0.0242 - accuracy: 0.9925\n",
      "Epoch 4/5\n",
      "63000/63000 [==============================] - 27s 426us/step - loss: 0.0203 - accuracy: 0.9934\n",
      "Epoch 5/5\n",
      "63000/63000 [==============================] - 27s 426us/step - loss: 0.0164 - accuracy: 0.9947\n",
      "7000/7000 [==============================] - 2s 245us/step\n",
      "0.9917142987251282\n",
      "Fold 3: 21000 - 28000\n",
      "Epoch 1/5\n",
      "63000/63000 [==============================] - 28s 445us/step - loss: 0.0599 - accuracy: 0.9822\n",
      "Epoch 2/5\n",
      "63000/63000 [==============================] - 27s 427us/step - loss: 0.0341 - accuracy: 0.9897\n",
      "Epoch 3/5\n",
      "63000/63000 [==============================] - 27s 427us/step - loss: 0.0252 - accuracy: 0.9922\n",
      "Epoch 4/5\n",
      "63000/63000 [==============================] - 27s 429us/step - loss: 0.0189 - accuracy: 0.9939\n",
      "Epoch 5/5\n",
      "63000/63000 [==============================] - 27s 432us/step - loss: 0.0173 - accuracy: 0.9946\n",
      "7000/7000 [==============================] - 2s 246us/step\n",
      "0.9912857413291931\n",
      "Fold 4: 28000 - 35000\n",
      "Epoch 1/5\n",
      "63000/63000 [==============================] - 29s 467us/step - loss: 0.0617 - accuracy: 0.9822\n",
      "Epoch 2/5\n",
      "63000/63000 [==============================] - 29s 454us/step - loss: 0.0350 - accuracy: 0.9897\n",
      "Epoch 3/5\n",
      "63000/63000 [==============================] - 29s 454us/step - loss: 0.0248 - accuracy: 0.9924\n",
      "Epoch 4/5\n",
      "63000/63000 [==============================] - 29s 455us/step - loss: 0.0208 - accuracy: 0.9934\n",
      "Epoch 5/5\n",
      "63000/63000 [==============================] - 30s 471us/step - loss: 0.0154 - accuracy: 0.9950\n",
      "7000/7000 [==============================] - 2s 267us/step\n",
      "0.9901428818702698\n",
      "Fold 5: 35000 - 42000\n",
      "Epoch 1/5\n",
      "63000/63000 [==============================] - 30s 473us/step - loss: 0.0588 - accuracy: 0.9817\n",
      "Epoch 2/5\n",
      "63000/63000 [==============================] - 28s 452us/step - loss: 0.0322 - accuracy: 0.9897\n",
      "Epoch 3/5\n",
      "63000/63000 [==============================] - 29s 460us/step - loss: 0.0247 - accuracy: 0.9919\n",
      "Epoch 4/5\n",
      "63000/63000 [==============================] - 30s 483us/step - loss: 0.0181 - accuracy: 0.9945\n",
      "Epoch 5/5\n",
      "63000/63000 [==============================] - 29s 468us/step - loss: 0.0164 - accuracy: 0.9948\n",
      "7000/7000 [==============================] - 2s 292us/step\n",
      "0.9902856945991516\n",
      "Fold 6: 42000 - 49000\n",
      "Epoch 1/5\n",
      "63000/63000 [==============================] - 31s 493us/step - loss: 0.0597 - accuracy: 0.9815\n",
      "Epoch 2/5\n",
      "63000/63000 [==============================] - 30s 470us/step - loss: 0.0334 - accuracy: 0.9900\n",
      "Epoch 3/5\n",
      "63000/63000 [==============================] - 30s 469us/step - loss: 0.0240 - accuracy: 0.9927\n",
      "Epoch 4/5\n",
      "63000/63000 [==============================] - 30s 471us/step - loss: 0.0197 - accuracy: 0.9940\n",
      "Epoch 5/5\n",
      "63000/63000 [==============================] - 30s 473us/step - loss: 0.0160 - accuracy: 0.9951\n",
      "7000/7000 [==============================] - 2s 306us/step\n",
      "0.9892857074737549\n",
      "Fold 7: 49000 - 56000\n",
      "Epoch 1/5\n",
      "63000/63000 [==============================] - 31s 500us/step - loss: 0.0594 - accuracy: 0.9816\n",
      "Epoch 2/5\n",
      "63000/63000 [==============================] - 29s 468us/step - loss: 0.0330 - accuracy: 0.9896\n",
      "Epoch 3/5\n",
      "63000/63000 [==============================] - 30s 472us/step - loss: 0.0240 - accuracy: 0.9925\n",
      "Epoch 4/5\n",
      "63000/63000 [==============================] - 30s 476us/step - loss: 0.0199 - accuracy: 0.9937\n",
      "Epoch 5/5\n",
      "63000/63000 [==============================] - 30s 474us/step - loss: 0.0158 - accuracy: 0.9948\n",
      "7000/7000 [==============================] - ETA:  - 2s 297us/step\n",
      "0.9911428689956665\n",
      "Fold 8: 56000 - 63000\n",
      "Epoch 1/5\n",
      "63000/63000 [==============================] - 31s 499us/step - loss: 0.0596 - accuracy: 0.9815\n",
      "Epoch 2/5\n",
      "63000/63000 [==============================] - 30s 469us/step - loss: 0.0329 - accuracy: 0.9897\n",
      "Epoch 3/5\n",
      "63000/63000 [==============================] - 30s 472us/step - loss: 0.0245 - accuracy: 0.9920\n",
      "Epoch 4/5\n",
      "63000/63000 [==============================] - 30s 472us/step - loss: 0.0204 - accuracy: 0.9937\n",
      "Epoch 5/5\n",
      "63000/63000 [==============================] - 30s 471us/step - loss: 0.0176 - accuracy: 0.9944s -\n",
      "7000/7000 [==============================] - 2s 296us/step\n",
      "0.9884285926818848\n",
      "Fold 9: 63000 - 70000\n",
      "Epoch 1/5\n",
      "63000/63000 [==============================] - 31s 498us/step - loss: 0.0589 - accuracy: 0.9815\n",
      "Epoch 2/5\n",
      "63000/63000 [==============================] - 30s 472us/step - loss: 0.0350 - accuracy: 0.9889\n",
      "Epoch 3/5\n",
      "63000/63000 [==============================] - 31s 496us/step - loss: 0.0260 - accuracy: 0.9919\n",
      "Epoch 4/5\n",
      "63000/63000 [==============================] - 30s 479us/step - loss: 0.0195 - accuracy: 0.9940\n",
      "Epoch 5/5\n",
      "63000/63000 [==============================] - 30s 474us/step - loss: 0.0183 - accuracy: 0.9943\n",
      "7000/7000 [==============================] - 2s 297us/step\n",
      "0.9944285750389099\n",
      "Average accuracy with 10-fold cross-validation: 0.99119 ± 0.00179\n"
     ]
    },
    {
     "data": {
      "text/plain": [
       "(0.99118572473526,\n",
       " [0.022284390567602324,\n",
       "  0.028721844047723738,\n",
       "  0.026113871110586582,\n",
       "  0.032248963425518015,\n",
       "  0.03622376112113541,\n",
       "  0.032728482961521616,\n",
       "  0.029867032854069425,\n",
       "  0.030832724159566817,\n",
       "  0.04267810324100355,\n",
       "  0.0172787805354206],\n",
       " [0.9932857155799866,\n",
       "  0.9918571710586548,\n",
       "  0.9917142987251282,\n",
       "  0.9912857413291931,\n",
       "  0.9901428818702698,\n",
       "  0.9902856945991516,\n",
       "  0.9892857074737549,\n",
       "  0.9911428689956665,\n",
       "  0.9884285926818848,\n",
       "  0.9944285750389099])"
      ]
     },
     "execution_count": 403,
     "metadata": {},
     "output_type": "execute_result"
    }
   ],
   "source": [
    "crossvalidate(model5, x_combined, y_combined, num_folds, batch_size=200, epochs=5)"
   ]
  },
  {
   "cell_type": "code",
   "execution_count": 405,
   "metadata": {
    "scrolled": true
   },
   "outputs": [
    {
     "name": "stdout",
     "output_type": "stream",
     "text": [
      "Fold 0: 0 - 7000\n",
      "Epoch 1/25\n",
      "63000/63000 [==============================] - 71s 1ms/step - loss: 0.3300 - accuracy: 0.9169\n",
      "Epoch 2/25\n",
      "63000/63000 [==============================] - 66s 1ms/step - loss: 0.0591 - accuracy: 0.9829\n",
      "Epoch 3/25\n",
      "63000/63000 [==============================] - 65s 1ms/step - loss: 0.0445 - accuracy: 0.9867\n",
      "Epoch 4/25\n",
      "63000/63000 [==============================] - 66s 1ms/step - loss: 0.0376 - accuracy: 0.9888\n",
      "Epoch 5/25\n",
      "63000/63000 [==============================] - 66s 1ms/step - loss: 0.0340 - accuracy: 0.9901\n",
      "Epoch 6/25\n",
      "63000/63000 [==============================] - 66s 1ms/step - loss: 0.0290 - accuracy: 0.9915\n",
      "Epoch 7/25\n",
      "63000/63000 [==============================] - 66s 1ms/step - loss: 0.0277 - accuracy: 0.9917\n",
      "Epoch 8/25\n",
      "63000/63000 [==============================] - 66s 1ms/step - loss: 0.0255 - accuracy: 0.9925\n",
      "Epoch 9/25\n",
      "63000/63000 [==============================] - 66s 1ms/step - loss: 0.0225 - accuracy: 0.9932\n",
      "Epoch 10/25\n",
      "63000/63000 [==============================] - 65s 1ms/step - loss: 0.0226 - accuracy: 0.9930\n",
      "Epoch 11/25\n",
      "63000/63000 [==============================] - 64s 1ms/step - loss: 0.0232 - accuracy: 0.9929\n",
      "Epoch 12/25\n",
      "63000/63000 [==============================] - 64s 1ms/step - loss: 0.0204 - accuracy: 0.9939\n",
      "Epoch 13/25\n",
      "63000/63000 [==============================] - 64s 1ms/step - loss: 0.0191 - accuracy: 0.9943\n",
      "Epoch 14/25\n",
      "63000/63000 [==============================] - 64s 1ms/step - loss: 0.0196 - accuracy: 0.9944\n",
      "Epoch 15/25\n",
      "63000/63000 [==============================] - 64s 1ms/step - loss: 0.0183 - accuracy: 0.9944\n",
      "Epoch 16/25\n",
      "63000/63000 [==============================] - 64s 1ms/step - loss: 0.0165 - accuracy: 0.9950\n",
      "Epoch 17/25\n",
      "63000/63000 [==============================] - 65s 1ms/step - loss: 0.0150 - accuracy: 0.9953\n",
      "Epoch 18/25\n",
      "63000/63000 [==============================] - 66s 1ms/step - loss: 0.0137 - accuracy: 0.9958\n",
      "Epoch 19/25\n",
      "63000/63000 [==============================] - 66s 1ms/step - loss: 0.0140 - accuracy: 0.9958\n",
      "Epoch 20/25\n",
      "63000/63000 [==============================] - 66s 1ms/step - loss: 0.0170 - accuracy: 0.9949\n",
      "Epoch 21/25\n",
      "63000/63000 [==============================] - 66s 1ms/step - loss: 0.0145 - accuracy: 0.9956\n",
      "Epoch 22/25\n",
      "63000/63000 [==============================] - 65s 1ms/step - loss: 0.0137 - accuracy: 0.9961\n",
      "Epoch 23/25\n",
      "63000/63000 [==============================] - 64s 1ms/step - loss: 0.0138 - accuracy: 0.9955\n",
      "Epoch 24/25\n",
      "63000/63000 [==============================] - 64s 1ms/step - loss: 0.0111 - accuracy: 0.9966\n",
      "Epoch 25/25\n",
      "63000/63000 [==============================] - 65s 1ms/step - loss: 0.0092 - accuracy: 0.9973\n",
      "7000/7000 [==============================] - 4s 624us/step\n",
      "0.9937142729759216\n",
      "Fold 1: 7000 - 14000\n",
      "Epoch 1/25\n",
      "63000/63000 [==============================] - 72s 1ms/step - loss: 0.2822 - accuracy: 0.9288\n",
      "Epoch 2/25\n",
      "63000/63000 [==============================] - 64s 1ms/step - loss: 0.0605 - accuracy: 0.9821\n",
      "Epoch 3/25\n",
      "63000/63000 [==============================] - 64s 1ms/step - loss: 0.0464 - accuracy: 0.9858\n",
      "Epoch 4/25\n",
      "63000/63000 [==============================] - 64s 1ms/step - loss: 0.0364 - accuracy: 0.9898\n",
      "Epoch 5/25\n",
      "63000/63000 [==============================] - 64s 1ms/step - loss: 0.0297 - accuracy: 0.9913\n",
      "Epoch 6/25\n",
      "63000/63000 [==============================] - 64s 1ms/step - loss: 0.0290 - accuracy: 0.9911\n",
      "Epoch 7/25\n",
      "63000/63000 [==============================] - 64s 1ms/step - loss: 0.0277 - accuracy: 0.9916\n",
      "Epoch 8/25\n",
      "63000/63000 [==============================] - 64s 1ms/step - loss: 0.0240 - accuracy: 0.9930\n",
      "Epoch 9/25\n",
      "63000/63000 [==============================] - 64s 1ms/step - loss: 0.0226 - accuracy: 0.9934\n",
      "Epoch 10/25\n",
      "63000/63000 [==============================] - 64s 1ms/step - loss: 0.0205 - accuracy: 0.9936\n",
      "Epoch 11/25\n",
      "63000/63000 [==============================] - 64s 1ms/step - loss: 0.0186 - accuracy: 0.9943\n",
      "Epoch 12/25\n",
      "63000/63000 [==============================] - 64s 1ms/step - loss: 0.0212 - accuracy: 0.9937\n",
      "Epoch 13/25\n",
      "63000/63000 [==============================] - 64s 1ms/step - loss: 0.0169 - accuracy: 0.9946\n",
      "Epoch 14/25\n",
      "63000/63000 [==============================] - 64s 1ms/step - loss: 0.0168 - accuracy: 0.9950\n",
      "Epoch 15/25\n",
      "63000/63000 [==============================] - 65s 1ms/step - loss: 0.0163 - accuracy: 0.9953\n",
      "Epoch 16/25\n",
      "63000/63000 [==============================] - 66s 1ms/step - loss: 0.0151 - accuracy: 0.9953\n",
      "Epoch 17/25\n",
      "63000/63000 [==============================] - 66s 1ms/step - loss: 0.0153 - accuracy: 0.9953\n",
      "Epoch 18/25\n",
      "63000/63000 [==============================] - 67s 1ms/step - loss: 0.0149 - accuracy: 0.9953\n",
      "Epoch 19/25\n",
      "63000/63000 [==============================] - 67s 1ms/step - loss: 0.0132 - accuracy: 0.9958\n",
      "Epoch 20/25\n",
      "63000/63000 [==============================] - 66s 1ms/step - loss: 0.0129 - accuracy: 0.9960\n",
      "Epoch 21/25\n",
      "63000/63000 [==============================] - 66s 1ms/step - loss: 0.0115 - accuracy: 0.9964\n",
      "Epoch 22/25\n",
      "63000/63000 [==============================] - 66s 1ms/step - loss: 0.0129 - accuracy: 0.9958\n",
      "Epoch 23/25\n",
      "63000/63000 [==============================] - 66s 1ms/step - loss: 0.0139 - accuracy: 0.9963\n",
      "Epoch 24/25\n",
      "63000/63000 [==============================] - 66s 1ms/step - loss: 0.0118 - accuracy: 0.9964\n",
      "Epoch 25/25\n",
      "63000/63000 [==============================] - 66s 1ms/step - loss: 0.0091 - accuracy: 0.9971\n",
      "7000/7000 [==============================] - 4s 612us/step\n",
      "0.9928571581840515\n",
      "Fold 2: 14000 - 21000\n",
      "Epoch 1/25\n",
      "63000/63000 [==============================] - 70s 1ms/step - loss: 0.3166 - accuracy: 0.9230\n",
      "Epoch 2/25\n",
      "63000/63000 [==============================] - 64s 1ms/step - loss: 0.0619 - accuracy: 0.9819\n",
      "Epoch 3/25\n",
      "63000/63000 [==============================] - 64s 1ms/step - loss: 0.0437 - accuracy: 0.9873\n",
      "Epoch 4/25\n",
      "63000/63000 [==============================] - 64s 1ms/step - loss: 0.0355 - accuracy: 0.9893\n",
      "Epoch 5/25\n",
      "63000/63000 [==============================] - 64s 1ms/step - loss: 0.0325 - accuracy: 0.9901\n",
      "Epoch 6/25\n",
      "63000/63000 [==============================] - 64s 1ms/step - loss: 0.0280 - accuracy: 0.9917\n",
      "Epoch 7/25\n",
      "63000/63000 [==============================] - 64s 1ms/step - loss: 0.0271 - accuracy: 0.9920\n",
      "Epoch 8/25\n",
      "63000/63000 [==============================] - 64s 1ms/step - loss: 0.0249 - accuracy: 0.9927\n",
      "Epoch 9/25\n",
      "63000/63000 [==============================] - 64s 1ms/step - loss: 0.0205 - accuracy: 0.9940\n",
      "Epoch 10/25\n",
      "63000/63000 [==============================] - 61s 975us/step - loss: 0.0246 - accuracy: 0.9930s - loss: 0.0246 - ac\n",
      "Epoch 11/25\n",
      "63000/63000 [==============================] - 60s 951us/step - loss: 0.0201 - accuracy: 0.9937\n",
      "Epoch 12/25\n",
      "63000/63000 [==============================] - 60s 951us/step - loss: 0.0221 - accuracy: 0.9931\n",
      "Epoch 13/25\n",
      "63000/63000 [==============================] - 60s 954us/step - loss: 0.0194 - accuracy: 0.9941\n",
      "Epoch 14/25\n",
      "63000/63000 [==============================] - 60s 955us/step - loss: 0.0165 - accuracy: 0.9953\n",
      "Epoch 15/25\n",
      "63000/63000 [==============================] - 60s 960us/step - loss: 0.0189 - accuracy: 0.9946\n",
      "Epoch 16/25\n",
      "63000/63000 [==============================] - 61s 960us/step - loss: 0.0169 - accuracy: 0.9947\n",
      "Epoch 17/25\n",
      "63000/63000 [==============================] - 61s 971us/step - loss: 0.0163 - accuracy: 0.9951\n",
      "Epoch 18/25\n",
      "63000/63000 [==============================] - 61s 973us/step - loss: 0.0126 - accuracy: 0.9960\n",
      "Epoch 19/25\n",
      "63000/63000 [==============================] - 61s 971us/step - loss: 0.0149 - accuracy: 0.9954\n",
      "Epoch 20/25\n",
      "63000/63000 [==============================] - 62s 976us/step - loss: 0.0147 - accuracy: 0.9956\n",
      "Epoch 21/25\n",
      "63000/63000 [==============================] - 62s 978us/step - loss: 0.0144 - accuracy: 0.9956\n",
      "Epoch 22/25\n",
      "63000/63000 [==============================] - 62s 978us/step - loss: 0.0116 - accuracy: 0.9965\n",
      "Epoch 23/25\n",
      "63000/63000 [==============================] - 62s 977us/step - loss: 0.0088 - accuracy: 0.9972\n",
      "Epoch 24/25\n",
      "63000/63000 [==============================] - 62s 978us/step - loss: 0.0126 - accuracy: 0.9964\n",
      "Epoch 25/25\n",
      "63000/63000 [==============================] - 62s 979us/step - loss: 0.0102 - accuracy: 0.9970\n",
      "7000/7000 [==============================] - 4s 542us/step\n",
      "0.9898571372032166\n",
      "Fold 3: 21000 - 28000\n",
      "Epoch 1/25\n",
      "63000/63000 [==============================] - 64s 1ms/step - loss: 0.2877 - accuracy: 0.9258\n",
      "Epoch 2/25\n",
      "63000/63000 [==============================] - 60s 954us/step - loss: 0.0600 - accuracy: 0.9829\n",
      "Epoch 3/25\n",
      "63000/63000 [==============================] - 60s 953us/step - loss: 0.0455 - accuracy: 0.9867\n",
      "Epoch 4/25\n",
      "63000/63000 [==============================] - 60s 953us/step - loss: 0.0347 - accuracy: 0.9898\n",
      "Epoch 5/25\n",
      "63000/63000 [==============================] - 60s 958us/step - loss: 0.0294 - accuracy: 0.9913\n",
      "Epoch 6/25\n",
      "63000/63000 [==============================] - 61s 966us/step - loss: 0.0268 - accuracy: 0.9920\n",
      "Epoch 7/25\n",
      "63000/63000 [==============================] - 61s 965us/step - loss: 0.0256 - accuracy: 0.9925\n",
      "Epoch 8/25\n",
      "63000/63000 [==============================] - 61s 970us/step - loss: 0.0256 - accuracy: 0.9924\n",
      "Epoch 9/25\n",
      "63000/63000 [==============================] - 61s 970us/step - loss: 0.0210 - accuracy: 0.9936\n",
      "Epoch 10/25\n",
      "63000/63000 [==============================] - 62s 976us/step - loss: 0.0229 - accuracy: 0.9931\n",
      "Epoch 11/25\n",
      "63000/63000 [==============================] - 61s 974us/step - loss: 0.0213 - accuracy: 0.9935\n",
      "Epoch 12/25\n",
      "63000/63000 [==============================] - 62s 978us/step - loss: 0.0193 - accuracy: 0.9943\n",
      "Epoch 13/25\n",
      "63000/63000 [==============================] - 62s 984us/step - loss: 0.0177 - accuracy: 0.9945\n",
      "Epoch 14/25\n",
      "63000/63000 [==============================] - 62s 984us/step - loss: 0.0178 - accuracy: 0.9945\n",
      "Epoch 15/25\n",
      "63000/63000 [==============================] - 62s 988us/step - loss: 0.0183 - accuracy: 0.9951\n",
      "Epoch 16/25\n",
      "63000/63000 [==============================] - 62s 989us/step - loss: 0.0144 - accuracy: 0.9956\n",
      "Epoch 17/25\n",
      "63000/63000 [==============================] - 62s 983us/step - loss: 0.0164 - accuracy: 0.9951\n",
      "Epoch 18/25\n",
      "63000/63000 [==============================] - 62s 986us/step - loss: 0.0147 - accuracy: 0.9957\n",
      "Epoch 19/25\n",
      "63000/63000 [==============================] - 62s 983us/step - loss: 0.0131 - accuracy: 0.9963\n",
      "Epoch 20/25\n",
      "63000/63000 [==============================] - 62s 983us/step - loss: 0.0118 - accuracy: 0.9964\n",
      "Epoch 21/25\n",
      "63000/63000 [==============================] - 63s 1000us/step - loss: 0.0128 - accuracy: 0.9961\n",
      "Epoch 22/25\n",
      "63000/63000 [==============================] - 66s 1ms/step - loss: 0.0120 - accuracy: 0.9964\n",
      "Epoch 23/25\n",
      "63000/63000 [==============================] - 66s 1ms/step - loss: 0.0132 - accuracy: 0.9962\n",
      "Epoch 24/25\n",
      "63000/63000 [==============================] - 66s 1ms/step - loss: 0.0085 - accuracy: 0.9975\n",
      "Epoch 25/25\n",
      "63000/63000 [==============================] - 66s 1ms/step - loss: 0.0109 - accuracy: 0.9968\n",
      "7000/7000 [==============================] - 4s 602us/step\n",
      "0.9907143115997314\n",
      "Fold 4: 28000 - 35000\n",
      "Epoch 1/25\n",
      "63000/63000 [==============================] - 69s 1ms/step - loss: 0.3030 - accuracy: 0.9213\n",
      "Epoch 2/25\n",
      "63000/63000 [==============================] - 64s 1ms/step - loss: 0.0583 - accuracy: 0.9826\n",
      "Epoch 3/25\n",
      "63000/63000 [==============================] - 65s 1ms/step - loss: 0.0438 - accuracy: 0.9874\n",
      "Epoch 4/25\n",
      "63000/63000 [==============================] - 65s 1ms/step - loss: 0.0359 - accuracy: 0.9899\n",
      "Epoch 5/25\n",
      "63000/63000 [==============================] - 65s 1ms/step - loss: 0.0301 - accuracy: 0.9916\n",
      "Epoch 6/25\n",
      "63000/63000 [==============================] - 65s 1ms/step - loss: 0.0297 - accuracy: 0.9913\n",
      "Epoch 7/25\n",
      "63000/63000 [==============================] - 65s 1ms/step - loss: 0.0277 - accuracy: 0.9915\n",
      "Epoch 8/25\n",
      "63000/63000 [==============================] - 65s 1ms/step - loss: 0.0223 - accuracy: 0.9932\n",
      "Epoch 9/25\n",
      "63000/63000 [==============================] - 65s 1ms/step - loss: 0.0237 - accuracy: 0.9933\n",
      "Epoch 10/25\n",
      "63000/63000 [==============================] - 65s 1ms/step - loss: 0.0212 - accuracy: 0.9936\n",
      "Epoch 11/25\n",
      "63000/63000 [==============================] - 65s 1ms/step - loss: 0.0207 - accuracy: 0.9938\n",
      "Epoch 12/25\n",
      "63000/63000 [==============================] - 65s 1ms/step - loss: 0.0191 - accuracy: 0.9941\n",
      "Epoch 13/25\n",
      "63000/63000 [==============================] - 64s 1ms/step - loss: 0.0205 - accuracy: 0.9940\n",
      "Epoch 14/25\n",
      "63000/63000 [==============================] - 65s 1ms/step - loss: 0.0178 - accuracy: 0.9945\n",
      "Epoch 15/25\n",
      "63000/63000 [==============================] - 65s 1ms/step - loss: 0.0202 - accuracy: 0.9941\n",
      "Epoch 16/25\n",
      "63000/63000 [==============================] - 65s 1ms/step - loss: 0.0147 - accuracy: 0.9957\n",
      "Epoch 17/25\n",
      "63000/63000 [==============================] - 65s 1ms/step - loss: 0.0151 - accuracy: 0.9955\n",
      "Epoch 18/25\n",
      "63000/63000 [==============================] - 65s 1ms/step - loss: 0.0164 - accuracy: 0.9948\n",
      "Epoch 19/25\n",
      "63000/63000 [==============================] - 66s 1ms/step - loss: 0.0156 - accuracy: 0.9952\n",
      "Epoch 20/25\n",
      "63000/63000 [==============================] - 65s 1ms/step - loss: 0.0148 - accuracy: 0.9956\n",
      "Epoch 21/25\n",
      "63000/63000 [==============================] - 65s 1ms/step - loss: 0.0131 - accuracy: 0.9963\n",
      "Epoch 22/25\n",
      "63000/63000 [==============================] - 66s 1ms/step - loss: 0.0101 - accuracy: 0.9969\n",
      "Epoch 23/25\n",
      "63000/63000 [==============================] - 65s 1ms/step - loss: 0.0113 - accuracy: 0.9963\n",
      "Epoch 24/25\n",
      "63000/63000 [==============================] - 63s 993us/step - loss: 0.0134 - accuracy: 0.9959\n",
      "Epoch 25/25\n",
      "63000/63000 [==============================] - 63s 994us/step - loss: 0.0107 - accuracy: 0.9967\n",
      "7000/7000 [==============================] - 4s 513us/step\n",
      "0.9927142858505249\n",
      "Fold 5: 35000 - 42000\n",
      "Epoch 1/25\n",
      "63000/63000 [==============================] - 64s 1ms/step - loss: 0.2869 - accuracy: 0.9277\n",
      "Epoch 2/25\n",
      "63000/63000 [==============================] - 60s 958us/step - loss: 0.0552 - accuracy: 0.9839\n",
      "Epoch 3/25\n",
      "63000/63000 [==============================] - 61s 960us/step - loss: 0.0423 - accuracy: 0.9879\n",
      "Epoch 4/25\n",
      "63000/63000 [==============================] - 61s 962us/step - loss: 0.0322 - accuracy: 0.9904\n",
      "Epoch 5/25\n",
      "63000/63000 [==============================] - 61s 966us/step - loss: 0.0302 - accuracy: 0.9916\n",
      "Epoch 6/25\n",
      "63000/63000 [==============================] - 61s 969us/step - loss: 0.0278 - accuracy: 0.9918\n",
      "Epoch 7/25\n",
      "63000/63000 [==============================] - 62s 980us/step - loss: 0.0237 - accuracy: 0.9926\n",
      "Epoch 8/25\n",
      "63000/63000 [==============================] - 62s 977us/step - loss: 0.0244 - accuracy: 0.9931\n",
      "Epoch 9/25\n",
      "63000/63000 [==============================] - 61s 974us/step - loss: 0.0234 - accuracy: 0.9926\n",
      "Epoch 10/25\n",
      "63000/63000 [==============================] - 61s 974us/step - loss: 0.0233 - accuracy: 0.9931\n",
      "Epoch 11/25\n",
      "63000/63000 [==============================] - 61s 974us/step - loss: 0.0192 - accuracy: 0.9942\n",
      "Epoch 12/25\n",
      "63000/63000 [==============================] - 62s 982us/step - loss: 0.0193 - accuracy: 0.9944\n",
      "Epoch 13/25\n",
      "63000/63000 [==============================] - 62s 980us/step - loss: 0.0181 - accuracy: 0.9945\n",
      "Epoch 14/25\n",
      "63000/63000 [==============================] - 62s 984us/step - loss: 0.0202 - accuracy: 0.9937\n",
      "Epoch 15/25\n",
      "63000/63000 [==============================] - 62s 985us/step - loss: 0.0169 - accuracy: 0.9950\n",
      "Epoch 16/25\n",
      "63000/63000 [==============================] - 62s 987us/step - loss: 0.0151 - accuracy: 0.9956\n",
      "Epoch 17/25\n",
      "63000/63000 [==============================] - 62s 988us/step - loss: 0.0138 - accuracy: 0.9958\n",
      "Epoch 18/25\n",
      "63000/63000 [==============================] - 62s 990us/step - loss: 0.0156 - accuracy: 0.9952\n",
      "Epoch 19/25\n",
      "63000/63000 [==============================] - 62s 988us/step - loss: 0.0153 - accuracy: 0.9956\n",
      "Epoch 20/25\n",
      "63000/63000 [==============================] - 62s 985us/step - loss: 0.0117 - accuracy: 0.9965\n",
      "Epoch 21/25\n",
      "63000/63000 [==============================] - 63s 995us/step - loss: 0.0139 - accuracy: 0.9958\n",
      "Epoch 22/25\n",
      "63000/63000 [==============================] - 63s 995us/step - loss: 0.0141 - accuracy: 0.9958\n",
      "Epoch 23/25\n",
      "63000/63000 [==============================] - 63s 995us/step - loss: 0.0104 - accuracy: 0.9969\n"
     ]
    },
    {
     "name": "stdout",
     "output_type": "stream",
     "text": [
      "Epoch 24/25\n",
      "63000/63000 [==============================] - 63s 993us/step - loss: 0.0122 - accuracy: 0.9964\n",
      "Epoch 25/25\n",
      "63000/63000 [==============================] - 62s 987us/step - loss: 0.0129 - accuracy: 0.9962\n",
      "7000/7000 [==============================] - 4s 516us/step\n",
      "0.9868571162223816\n",
      "Fold 6: 42000 - 49000\n",
      "Epoch 1/25\n",
      "63000/63000 [==============================] - 64s 1ms/step - loss: 0.2814 - accuracy: 0.9279\n",
      "Epoch 2/25\n",
      "63000/63000 [==============================] - 60s 954us/step - loss: 0.0553 - accuracy: 0.9834\n",
      "Epoch 3/25\n",
      "63000/63000 [==============================] - 60s 960us/step - loss: 0.0434 - accuracy: 0.9871\n",
      "Epoch 4/25\n",
      "63000/63000 [==============================] - 61s 968us/step - loss: 0.0389 - accuracy: 0.9890\n",
      "Epoch 5/25\n",
      "63000/63000 [==============================] - 61s 975us/step - loss: 0.0311 - accuracy: 0.9912\n",
      "Epoch 6/25\n",
      "63000/63000 [==============================] - 61s 972us/step - loss: 0.0278 - accuracy: 0.9918\n",
      "Epoch 7/25\n",
      "63000/63000 [==============================] - 61s 972us/step - loss: 0.0243 - accuracy: 0.9930\n",
      "Epoch 8/25\n",
      "63000/63000 [==============================] - 61s 974us/step - loss: 0.0246 - accuracy: 0.9925\n",
      "Epoch 9/25\n",
      "63000/63000 [==============================] - 62s 985us/step - loss: 0.0236 - accuracy: 0.9926\n",
      "Epoch 10/25\n",
      "63000/63000 [==============================] - 62s 990us/step - loss: 0.0194 - accuracy: 0.9944\n",
      "Epoch 11/25\n",
      "63000/63000 [==============================] - 64s 1ms/step - loss: 0.0200 - accuracy: 0.9940\n",
      "Epoch 12/25\n",
      "63000/63000 [==============================] - 67s 1ms/step - loss: 0.0190 - accuracy: 0.9944\n",
      "Epoch 13/25\n",
      "63000/63000 [==============================] - 67s 1ms/step - loss: 0.0179 - accuracy: 0.9949\n",
      "Epoch 14/25\n",
      "63000/63000 [==============================] - 67s 1ms/step - loss: 0.0155 - accuracy: 0.9954\n",
      "Epoch 15/25\n",
      "63000/63000 [==============================] - 67s 1ms/step - loss: 0.0154 - accuracy: 0.9956\n",
      "Epoch 16/25\n",
      "63000/63000 [==============================] - 67s 1ms/step - loss: 0.0157 - accuracy: 0.9950\n",
      "Epoch 17/25\n",
      "63000/63000 [==============================] - 68s 1ms/step - loss: 0.0149 - accuracy: 0.9956\n",
      "Epoch 18/25\n",
      "63000/63000 [==============================] - 67s 1ms/step - loss: 0.0139 - accuracy: 0.9957\n",
      "Epoch 19/25\n",
      "63000/63000 [==============================] - 62s 978us/step - loss: 0.0146 - accuracy: 0.9956\n",
      "Epoch 20/25\n",
      "63000/63000 [==============================] - 62s 977us/step - loss: 0.0098 - accuracy: 0.9970\n",
      "Epoch 21/25\n",
      "63000/63000 [==============================] - 62s 990us/step - loss: 0.0123 - accuracy: 0.9962\n",
      "Epoch 22/25\n",
      "63000/63000 [==============================] - 62s 982us/step - loss: 0.0114 - accuracy: 0.9964\n",
      "Epoch 23/25\n",
      "63000/63000 [==============================] - 62s 991us/step - loss: 0.0105 - accuracy: 0.9967\n",
      "Epoch 24/25\n",
      "63000/63000 [==============================] - 62s 989us/step - loss: 0.0104 - accuracy: 0.9969\n",
      "Epoch 25/25\n",
      "63000/63000 [==============================] - 63s 995us/step - loss: 0.0097 - accuracy: 0.9970\n",
      "7000/7000 [==============================] - 4s 515us/step\n",
      "0.99314284324646\n",
      "Fold 7: 49000 - 56000\n",
      "Epoch 1/25\n",
      "63000/63000 [==============================] - 64s 1ms/step - loss: 0.2792 - accuracy: 0.9281\n",
      "Epoch 2/25\n",
      "63000/63000 [==============================] - 60s 956us/step - loss: 0.0549 - accuracy: 0.9849\n",
      "Epoch 3/25\n",
      "63000/63000 [==============================] - 61s 964us/step - loss: 0.0444 - accuracy: 0.9869\n",
      "Epoch 4/25\n",
      "63000/63000 [==============================] - 61s 968us/step - loss: 0.0348 - accuracy: 0.9900\n",
      "Epoch 5/25\n",
      "63000/63000 [==============================] - 61s 971us/step - loss: 0.0318 - accuracy: 0.9908\n",
      "Epoch 6/25\n",
      "63000/63000 [==============================] - 62s 981us/step - loss: 0.0285 - accuracy: 0.9918\n",
      "Epoch 7/25\n",
      "63000/63000 [==============================] - 62s 984us/step - loss: 0.0278 - accuracy: 0.9919\n",
      "Epoch 8/25\n",
      "63000/63000 [==============================] - 62s 989us/step - loss: 0.0240 - accuracy: 0.9926\n",
      "Epoch 9/25\n",
      "63000/63000 [==============================] - 62s 983us/step - loss: 0.0244 - accuracy: 0.9927\n",
      "Epoch 10/25\n",
      "63000/63000 [==============================] - 62s 984us/step - loss: 0.0223 - accuracy: 0.9932\n",
      "Epoch 11/25\n",
      "63000/63000 [==============================] - 62s 984us/step - loss: 0.0198 - accuracy: 0.9940\n",
      "Epoch 12/25\n",
      "63000/63000 [==============================] - 62s 984us/step - loss: 0.0163 - accuracy: 0.9953\n",
      "Epoch 13/25\n",
      "63000/63000 [==============================] - 63s 993us/step - loss: 0.0179 - accuracy: 0.9946\n",
      "Epoch 14/25\n",
      "63000/63000 [==============================] - 62s 991us/step - loss: 0.0202 - accuracy: 0.9943\n",
      "Epoch 15/25\n",
      "63000/63000 [==============================] - 62s 984us/step - loss: 0.0176 - accuracy: 0.9949\n",
      "Epoch 16/25\n",
      "63000/63000 [==============================] - 62s 981us/step - loss: 0.0170 - accuracy: 0.9948\n",
      "Epoch 17/25\n",
      "63000/63000 [==============================] - 62s 976us/step - loss: 0.0137 - accuracy: 0.9961\n",
      "Epoch 18/25\n",
      "63000/63000 [==============================] - 61s 976us/step - loss: 0.0141 - accuracy: 0.9960\n",
      "Epoch 19/25\n",
      "63000/63000 [==============================] - 61s 971us/step - loss: 0.0158 - accuracy: 0.9953\n",
      "Epoch 20/25\n",
      "63000/63000 [==============================] - 61s 965us/step - loss: 0.0151 - accuracy: 0.9957\n",
      "Epoch 21/25\n",
      "63000/63000 [==============================] - 61s 964us/step - loss: 0.0110 - accuracy: 0.9967\n",
      "Epoch 22/25\n",
      "63000/63000 [==============================] - 61s 964us/step - loss: 0.0108 - accuracy: 0.9964\n",
      "Epoch 23/25\n",
      "63000/63000 [==============================] - 61s 964us/step - loss: 0.0120 - accuracy: 0.9963\n",
      "Epoch 24/25\n",
      "63000/63000 [==============================] - 61s 964us/step - loss: 0.0110 - accuracy: 0.9965\n",
      "Epoch 25/25\n",
      "63000/63000 [==============================] - 61s 964us/step - loss: 0.0119 - accuracy: 0.9966\n",
      "7000/7000 [==============================] - 4s 536us/step\n",
      "0.991428554058075\n",
      "Fold 8: 56000 - 63000\n",
      "Epoch 1/25\n",
      "63000/63000 [==============================] - 64s 1ms/step - loss: 0.2691 - accuracy: 0.9297\n",
      "Epoch 2/25\n",
      "63000/63000 [==============================] - 60s 960us/step - loss: 0.0578 - accuracy: 0.9827\n",
      "Epoch 3/25\n",
      "63000/63000 [==============================] - 61s 971us/step - loss: 0.0441 - accuracy: 0.9867\n",
      "Epoch 4/25\n",
      "63000/63000 [==============================] - 61s 971us/step - loss: 0.0363 - accuracy: 0.9896\n",
      "Epoch 5/25\n",
      "63000/63000 [==============================] - 61s 963us/step - loss: 0.0321 - accuracy: 0.9908\n",
      "Epoch 6/25\n",
      "63000/63000 [==============================] - 61s 963us/step - loss: 0.0294 - accuracy: 0.9909\n",
      "Epoch 7/25\n",
      "63000/63000 [==============================] - 61s 963us/step - loss: 0.0268 - accuracy: 0.9921\n",
      "Epoch 8/25\n",
      "63000/63000 [==============================] - 61s 963us/step - loss: 0.0247 - accuracy: 0.9925\n",
      "Epoch 9/25\n",
      "63000/63000 [==============================] - 61s 963us/step - loss: 0.0256 - accuracy: 0.9924\n",
      "Epoch 10/25\n",
      "63000/63000 [==============================] - 61s 967us/step - loss: 0.0193 - accuracy: 0.9943\n",
      "Epoch 11/25\n",
      "63000/63000 [==============================] - 61s 970us/step - loss: 0.0221 - accuracy: 0.9933\n",
      "Epoch 12/25\n",
      "63000/63000 [==============================] - 64s 1ms/step - loss: 0.0191 - accuracy: 0.9942\n",
      "Epoch 13/25\n",
      "63000/63000 [==============================] - 65s 1ms/step - loss: 0.0205 - accuracy: 0.9939\n",
      "Epoch 14/25\n",
      "63000/63000 [==============================] - 65s 1ms/step - loss: 0.0192 - accuracy: 0.9944\n",
      "Epoch 15/25\n",
      "63000/63000 [==============================] - 65s 1ms/step - loss: 0.0176 - accuracy: 0.9948\n",
      "Epoch 16/25\n",
      "63000/63000 [==============================] - 65s 1ms/step - loss: 0.0157 - accuracy: 0.9950\n",
      "Epoch 17/25\n",
      "63000/63000 [==============================] - 65s 1ms/step - loss: 0.0139 - accuracy: 0.9956\n",
      "Epoch 18/25\n",
      "63000/63000 [==============================] - 65s 1ms/step - loss: 0.0137 - accuracy: 0.9959\n",
      "Epoch 19/25\n",
      "63000/63000 [==============================] - 65s 1ms/step - loss: 0.0141 - accuracy: 0.9956\n",
      "Epoch 20/25\n",
      "63000/63000 [==============================] - 65s 1ms/step - loss: 0.0151 - accuracy: 0.9952\n",
      "Epoch 21/25\n",
      "63000/63000 [==============================] - 65s 1ms/step - loss: 0.0115 - accuracy: 0.9963\n",
      "Epoch 22/25\n",
      "63000/63000 [==============================] - 65s 1ms/step - loss: 0.0125 - accuracy: 0.9963\n",
      "Epoch 23/25\n",
      "63000/63000 [==============================] - 66s 1ms/step - loss: 0.0131 - accuracy: 0.9959\n",
      "Epoch 24/25\n",
      "63000/63000 [==============================] - 66s 1ms/step - loss: 0.0110 - accuracy: 0.9965\n",
      "Epoch 25/25\n",
      "63000/63000 [==============================] - 66s 1ms/step - loss: 0.0102 - accuracy: 0.9967\n",
      "7000/7000 [==============================] - 4s 601us/step\n",
      "0.9922857284545898\n",
      "Fold 9: 63000 - 70000\n",
      "Epoch 1/25\n",
      "63000/63000 [==============================] - 69s 1ms/step - loss: 0.3006 - accuracy: 0.9244\n",
      "Epoch 2/25\n",
      "63000/63000 [==============================] - 64s 1ms/step - loss: 0.0592 - accuracy: 0.9828\n",
      "Epoch 3/25\n",
      "63000/63000 [==============================] - 65s 1ms/step - loss: 0.0489 - accuracy: 0.9864\n",
      "Epoch 4/25\n",
      "63000/63000 [==============================] - 65s 1ms/step - loss: 0.0390 - accuracy: 0.9889\n",
      "Epoch 5/25\n",
      "63000/63000 [==============================] - 65s 1ms/step - loss: 0.0327 - accuracy: 0.9905\n",
      "Epoch 6/25\n",
      "63000/63000 [==============================] - 65s 1ms/step - loss: 0.0310 - accuracy: 0.9913\n",
      "Epoch 7/25\n",
      "63000/63000 [==============================] - 65s 1ms/step - loss: 0.0262 - accuracy: 0.9919\n",
      "Epoch 8/25\n",
      "63000/63000 [==============================] - 65s 1ms/step - loss: 0.0260 - accuracy: 0.9918\n",
      "Epoch 9/25\n",
      "63000/63000 [==============================] - 65s 1ms/step - loss: 0.0243 - accuracy: 0.9929\n",
      "Epoch 10/25\n",
      "63000/63000 [==============================] - 65s 1ms/step - loss: 0.0242 - accuracy: 0.9923\n",
      "Epoch 11/25\n",
      "63000/63000 [==============================] - 65s 1ms/step - loss: 0.0230 - accuracy: 0.9930\n",
      "Epoch 12/25\n",
      "63000/63000 [==============================] - 65s 1ms/step - loss: 0.0235 - accuracy: 0.9930\n",
      "Epoch 13/25\n",
      "63000/63000 [==============================] - 64s 1ms/step - loss: 0.0180 - accuracy: 0.9945\n",
      "Epoch 14/25\n",
      "63000/63000 [==============================] - 62s 980us/step - loss: 0.0202 - accuracy: 0.9939\n",
      "Epoch 15/25\n",
      "63000/63000 [==============================] - 62s 980us/step - loss: 0.0169 - accuracy: 0.9944\n",
      "Epoch 16/25\n",
      "63000/63000 [==============================] - 62s 983us/step - loss: 0.0186 - accuracy: 0.9944\n",
      "Epoch 17/25\n",
      "63000/63000 [==============================] - 62s 983us/step - loss: 0.0168 - accuracy: 0.9952\n",
      "Epoch 18/25\n",
      "63000/63000 [==============================] - 62s 987us/step - loss: 0.0184 - accuracy: 0.9943\n",
      "Epoch 19/25\n",
      "63000/63000 [==============================] - 62s 982us/step - loss: 0.0148 - accuracy: 0.9955\n",
      "Epoch 20/25\n",
      "63000/63000 [==============================] - 62s 985us/step - loss: 0.0133 - accuracy: 0.9961\n",
      "Epoch 21/25\n",
      "63000/63000 [==============================] - 62s 986us/step - loss: 0.0136 - accuracy: 0.9960\n",
      "Epoch 22/25\n",
      "63000/63000 [==============================] - 62s 983us/step - loss: 0.0134 - accuracy: 0.9960\n",
      "Epoch 23/25\n",
      "63000/63000 [==============================] - 62s 979us/step - loss: 0.0147 - accuracy: 0.9954\n",
      "Epoch 24/25\n",
      "63000/63000 [==============================] - 62s 979us/step - loss: 0.0136 - accuracy: 0.9960\n",
      "Epoch 25/25\n",
      "63000/63000 [==============================] - 62s 979us/step - loss: 0.0109 - accuracy: 0.9966\n",
      "7000/7000 [==============================] - 4s 552us/step\n",
      "0.9945714473724365\n",
      "Average accuracy with 10-fold cross-validation: 0.99181 ± 0.00223\n"
     ]
    },
    {
     "data": {
      "text/plain": [
       "(0.9918142855167389,\n",
       " [0.026611555021946936,\n",
       "  0.03853112976948855,\n",
       "  0.04031716093335594,\n",
       "  0.04902952241230378,\n",
       "  0.03486207676862117,\n",
       "  0.058693780943393774,\n",
       "  0.03936152319094143,\n",
       "  0.0413308753897864,\n",
       "  0.03311518121353633,\n",
       "  0.02597183254967016],\n",
       " [0.9937142729759216,\n",
       "  0.9928571581840515,\n",
       "  0.9898571372032166,\n",
       "  0.9907143115997314,\n",
       "  0.9927142858505249,\n",
       "  0.9868571162223816,\n",
       "  0.99314284324646,\n",
       "  0.991428554058075,\n",
       "  0.9922857284545898,\n",
       "  0.9945714473724365])"
      ]
     },
     "execution_count": 405,
     "metadata": {},
     "output_type": "execute_result"
    }
   ],
   "source": [
    "crossvalidate(model6, x_combined, y_combined, num_folds, batch_size=200, epochs=25)"
   ]
  },
  {
   "cell_type": "code",
   "execution_count": 406,
   "metadata": {},
   "outputs": [],
   "source": [
    "# 10-fold cross-validation results on model6\n",
    "# 99.45% maximum accuracy\n",
    "# 99.18% +/- 0.22% mean/stdev accuracy"
   ]
  },
  {
   "cell_type": "code",
   "execution_count": null,
   "metadata": {},
   "outputs": [],
   "source": []
  }
 ],
 "metadata": {
  "kernelspec": {
   "display_name": "Python 3",
   "language": "python",
   "name": "python3"
  },
  "language_info": {
   "codemirror_mode": {
    "name": "ipython",
    "version": 3
   },
   "file_extension": ".py",
   "mimetype": "text/x-python",
   "name": "python",
   "nbconvert_exporter": "python",
   "pygments_lexer": "ipython3",
   "version": "3.7.3"
  }
 },
 "nbformat": 4,
 "nbformat_minor": 2
}
