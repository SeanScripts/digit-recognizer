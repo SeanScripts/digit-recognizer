{
 "cells": [
  {
   "cell_type": "code",
   "execution_count": 11,
   "metadata": {},
   "outputs": [],
   "source": [
    "import random\n",
    "import time\n",
    "import matplotlib.pyplot as plt\n",
    "import tensorflow as tf\n",
    "import keras\n",
    "from keras.models import Sequential\n",
    "from keras.layers import Dense, Conv2D, Dropout, Flatten, MaxPooling2D, BatchNormalization, Add, Activation\n",
    "\n",
    "%matplotlib inline"
   ]
  },
  {
   "cell_type": "code",
   "execution_count": 2,
   "metadata": {},
   "outputs": [],
   "source": [
    "# Load the MNIST dataset\n",
    "(x_train, y_train), (x_test, y_test) = tf.keras.datasets.mnist.load_data()"
   ]
  },
  {
   "cell_type": "code",
   "execution_count": 3,
   "metadata": {},
   "outputs": [
    {
     "name": "stdout",
     "output_type": "stream",
     "text": [
      "6\n"
     ]
    },
    {
     "data": {
      "text/plain": [
       "<matplotlib.image.AxesImage at 0x2d276d05a20>"
      ]
     },
     "execution_count": 3,
     "metadata": {},
     "output_type": "execute_result"
    },
    {
     "data": {
      "image/png": "[encoded data removed]",
      "text/plain": [
       "<Figure size 432x288 with 1 Axes>"
      ]
     },
     "metadata": {
      "needs_background": "light"
     },
     "output_type": "display_data"
    }
   ],
   "source": [
    "# Show an example image from the training data along with its label\n",
    "index = int(random.random()*len(x_train))\n",
    "print(y_train[index])\n",
    "plt.imshow(x_train[index], cmap='Greys')"
   ]
  },
  {
   "cell_type": "code",
   "execution_count": 5,
   "metadata": {},
   "outputs": [
    {
     "name": "stdout",
     "output_type": "stream",
     "text": [
      "(60000, 28, 28)\n",
      "(10000, 28, 28)\n"
     ]
    }
   ],
   "source": [
    "# 60k training examples, 28 x 28 pixel images\n",
    "print(x_train.shape)\n",
    "# 10k testing examples\n",
    "print(x_test.shape)"
   ]
  },
  {
   "cell_type": "code",
   "execution_count": 7,
   "metadata": {},
   "outputs": [],
   "source": [
    "# Reshape, only one layer (grayscale)\n",
    "x_train = x_train.reshape(60000, 28, 28, 1).astype('float32')\n",
    "x_test = x_test.reshape(10000, 28, 28, 1).astype('float32')\n",
    "input_shape = (28, 28, 1)"
   ]
  },
  {
   "cell_type": "code",
   "execution_count": 8,
   "metadata": {},
   "outputs": [],
   "source": [
    "# Normalize\n",
    "x_train /= 255.0\n",
    "x_test /= 255.0"
   ]
  },
  {
   "cell_type": "code",
   "execution_count": 63,
   "metadata": {},
   "outputs": [],
   "source": [
    "# Create model - convolution, pooling, flatten, relu, dropout, softmax\n",
    "model = Sequential()\n",
    "model.add(Conv2D(28, kernel_size=(3,3), input_shape = input_shape))\n",
    "model.add(MaxPooling2D(pool_size=(2,2)))\n",
    "model.add(Flatten())\n",
    "model.add(Dense(128, activation=tf.nn.relu))\n",
    "model.add(Dropout(0.2))\n",
    "model.add(Dense(10, activation=tf.nn.softmax))"
   ]
  },
  {
   "cell_type": "code",
   "execution_count": 64,
   "metadata": {},
   "outputs": [
    {
     "name": "stdout",
     "output_type": "stream",
     "text": [
      "Epoch 1/5\n",
      "60000/60000 [==============================] - 11s 176us/step - loss: 0.1975 - accuracy: 0.9414\n",
      "Epoch 2/5\n",
      "60000/60000 [==============================] - 10s 171us/step - loss: 0.0827 - accuracy: 0.9743\n",
      "Epoch 3/5\n",
      "60000/60000 [==============================] - 10s 174us/step - loss: 0.0551 - accuracy: 0.9826\n",
      "Epoch 4/5\n",
      "60000/60000 [==============================] - 10s 165us/step - loss: 0.0413 - accuracy: 0.9870\n",
      "Epoch 5/5\n",
      "60000/60000 [==============================] - 10s 165us/step - loss: 0.0327 - accuracy: 0.9894\n"
     ]
    },
    {
     "data": {
      "text/plain": [
       "<keras.callbacks.callbacks.History at 0x22f4bffbdd8>"
      ]
     },
     "execution_count": 64,
     "metadata": {},
     "output_type": "execute_result"
    }
   ],
   "source": [
    "model.compile(optimizer='adam', \n",
    "              loss='sparse_categorical_crossentropy', \n",
    "              metrics=['accuracy'])\n",
    "model.fit(x=x_train, y=y_train, epochs=5)"
   ]
  },
  {
   "cell_type": "code",
   "execution_count": 65,
   "metadata": {},
   "outputs": [
    {
     "name": "stdout",
     "output_type": "stream",
     "text": [
      "10000/10000 [==============================] - 1s 74us/step\n"
     ]
    },
    {
     "data": {
      "text/plain": [
       "[0.053561915939213944, 0.9830999970436096]"
      ]
     },
     "execution_count": 65,
     "metadata": {},
     "output_type": "execute_result"
    }
   ],
   "source": [
    "# Pretty much the same despite having twice as many neurons in the second to last layer\n",
    "model.evaluate(x_test, y_test)"
   ]
  },
  {
   "cell_type": "code",
   "execution_count": 139,
   "metadata": {
    "scrolled": true
   },
   "outputs": [
    {
     "name": "stdout",
     "output_type": "stream",
     "text": [
      "Prediction: 2\n",
      "Actual: 2\n"
     ]
    },
    {
     "data": {
      "text/plain": [
       "<matplotlib.image.AxesImage at 0x22f4face860>"
      ]
     },
     "execution_count": 139,
     "metadata": {},
     "output_type": "execute_result"
    },
    {
     "data": {
      "image/png": "[encoded data removed]",
      "text/plain": [
       "<Figure size 432x288 with 1 Axes>"
      ]
     },
     "metadata": {
      "needs_background": "light"
     },
     "output_type": "display_data"
    }
   ],
   "source": [
    "# Show an example image from the training data along with its label\n",
    "# and its predicted label from the model\n",
    "index = int(random.random()*len(x_test))\n",
    "pred = model.predict(x_test[index].reshape(1, 28, 28, 1))\n",
    "print('Prediction: {}'.format(pred.argmax()))\n",
    "print('Actual: {}'.format(y_test[index]))\n",
    "plt.imshow(x_test[index].reshape(28, 28), cmap='Greys')\n",
    "# Looks like a 1 to me..."
   ]
  },
  {
   "cell_type": "code",
   "execution_count": 13,
   "metadata": {},
   "outputs": [
    {
     "name": "stdout",
     "output_type": "stream",
     "text": [
      "Epoch 1/1\n",
      "60000/60000 [==============================] - 19s 315us/step - loss: 0.0252 - accuracy: 0.9912\n",
      "Epoch 1/1\n",
      "60000/60000 [==============================] - 10s 160us/step - loss: 0.0234 - accuracy: 0.9922\n"
     ]
    }
   ],
   "source": [
    "# Verify CUDA installation and compare GPU training speed to CPU\n",
    "with tf.device('/CPU:0'):\n",
    "    model.compile(optimizer='adam', \n",
    "              loss='sparse_categorical_crossentropy', \n",
    "              metrics=['accuracy'])\n",
    "    model.fit(x=x_train, y=y_train, epochs=1)\n",
    "with tf.device('/GPU:0'):\n",
    "    model.compile(optimizer='adam', \n",
    "              loss='sparse_categorical_crossentropy', \n",
    "              metrics=['accuracy'])\n",
    "    model.fit(x=x_train, y=y_train, epochs=1)\n",
    "# I don't have a great GPU, but it's better than nothing."
   ]
  },
  {
   "cell_type": "code",
   "execution_count": 153,
   "metadata": {},
   "outputs": [],
   "source": [
    "#Try some different architectures\n",
    "model2 = Sequential()\n",
    "model2.add(Conv2D(32, kernel_size=(3,3), input_shape=input_shape, padding='same', activation=tf.nn.relu))\n",
    "model2.add(Conv2D(64, kernel_size=(3,3), padding='same', activation=tf.nn.relu))\n",
    "model2.add(MaxPooling2D(pool_size=(2,2)))\n",
    "model2.add(Dropout(0.2))\n",
    "model2.add(Flatten())\n",
    "model2.add(Dense(64, activation=tf.nn.relu))\n",
    "model2.add(Dropout(0.5))\n",
    "model2.add(Dense(10, activation=tf.nn.softmax))"
   ]
  },
  {
   "cell_type": "code",
   "execution_count": 154,
   "metadata": {},
   "outputs": [
    {
     "name": "stdout",
     "output_type": "stream",
     "text": [
      "Epoch 1/5\n",
      "60000/60000 [==============================] - 9s 146us/step - loss: 0.5017 - accuracy: 0.8469\n",
      "Epoch 2/5\n",
      "60000/60000 [==============================] - 8s 136us/step - loss: 0.1613 - accuracy: 0.9537\n",
      "Epoch 3/5\n",
      "60000/60000 [==============================] - 8s 136us/step - loss: 0.1194 - accuracy: 0.9651\n",
      "Epoch 4/5\n",
      "60000/60000 [==============================] - 8s 136us/step - loss: 0.0991 - accuracy: 0.9695\n",
      "Epoch 5/5\n",
      "60000/60000 [==============================] - 8s 136us/step - loss: 0.0839 - accuracy: 0.9757\n"
     ]
    },
    {
     "data": {
      "text/plain": [
       "<keras.callbacks.callbacks.History at 0x22f544eeef0>"
      ]
     },
     "execution_count": 154,
     "metadata": {},
     "output_type": "execute_result"
    }
   ],
   "source": [
    "model2.compile(optimizer='adam', \n",
    "               loss='sparse_categorical_crossentropy',\n",
    "               metrics=['accuracy'])\n",
    "model2.fit(x=x_train, y=y_train, epochs=5, batch_size=512)"
   ]
  },
  {
   "cell_type": "code",
   "execution_count": 155,
   "metadata": {},
   "outputs": [
    {
     "name": "stdout",
     "output_type": "stream",
     "text": [
      "10000/10000 [==============================] - 1s 142us/step\n"
     ]
    },
    {
     "data": {
      "text/plain": [
       "[0.03603210315018077, 0.9883999824523926]"
      ]
     },
     "execution_count": 155,
     "metadata": {},
     "output_type": "execute_result"
    }
   ],
   "source": [
    "# Barely better\n",
    "model2.evaluate(x_test, y_test)"
   ]
  },
  {
   "cell_type": "code",
   "execution_count": 156,
   "metadata": {},
   "outputs": [],
   "source": [
    "model3 = Sequential()\n",
    "model3.add(Dropout(0.1))\n",
    "model3.add(Conv2D(32, kernel_size=(3,3), input_shape=input_shape, padding='same', activation=tf.nn.relu))\n",
    "model3.add(MaxPooling2D(pool_size=(2,2)))\n",
    "model3.add(Dropout(0.2))\n",
    "model3.add(Conv2D(32, kernel_size=(3,3), padding='same', activation=tf.nn.relu))\n",
    "model3.add(Flatten())\n",
    "model3.add(Dropout(0.2))\n",
    "model3.add(Dense(64, activation=tf.nn.relu))\n",
    "model3.add(Dropout(0.25))\n",
    "model3.add(Dense(10, activation=tf.nn.softmax))"
   ]
  },
  {
   "cell_type": "code",
   "execution_count": 159,
   "metadata": {},
   "outputs": [
    {
     "name": "stdout",
     "output_type": "stream",
     "text": [
      "Epoch 1/10\n",
      "60000/60000 [==============================] - 4s 67us/step - loss: 0.0795 - accuracy: 0.9755\n",
      "Epoch 2/10\n",
      "60000/60000 [==============================] - 4s 63us/step - loss: 0.0707 - accuracy: 0.9783\n",
      "Epoch 3/10\n",
      "60000/60000 [==============================] - 4s 63us/step - loss: 0.0639 - accuracy: 0.9800\n",
      "Epoch 4/10\n",
      "60000/60000 [==============================] - 4s 63us/step - loss: 0.0578 - accuracy: 0.9819\n",
      "Epoch 5/10\n",
      "60000/60000 [==============================] - 4s 63us/step - loss: 0.0532 - accuracy: 0.9829\n",
      "Epoch 6/10\n",
      "60000/60000 [==============================] - 4s 63us/step - loss: 0.0469 - accuracy: 0.9853\n",
      "Epoch 7/10\n",
      "60000/60000 [==============================] - 4s 63us/step - loss: 0.0440 - accuracy: 0.9864\n",
      "Epoch 8/10\n",
      "60000/60000 [==============================] - 4s 63us/step - loss: 0.0413 - accuracy: 0.9868\n",
      "Epoch 9/10\n",
      "60000/60000 [==============================] - 4s 63us/step - loss: 0.0390 - accuracy: 0.9871\n",
      "Epoch 10/10\n",
      "60000/60000 [==============================] - 4s 63us/step - loss: 0.0383 - accuracy: 0.9872\n"
     ]
    },
    {
     "data": {
      "text/plain": [
       "<keras.callbacks.callbacks.History at 0x22f558f57b8>"
      ]
     },
     "execution_count": 159,
     "metadata": {},
     "output_type": "execute_result"
    }
   ],
   "source": [
    "model3.compile(optimizer='adam',\n",
    "              loss='sparse_categorical_crossentropy',\n",
    "              metrics=['accuracy'])\n",
    "model3.fit(x=x_train, y=y_train, epochs=10, batch_size=512)"
   ]
  },
  {
   "cell_type": "code",
   "execution_count": 160,
   "metadata": {},
   "outputs": [
    {
     "name": "stdout",
     "output_type": "stream",
     "text": [
      "10000/10000 [==============================] - 1s 106us/step\n"
     ]
    },
    {
     "data": {
      "text/plain": [
       "[0.028460302224976475, 0.9907000064849854]"
      ]
     },
     "execution_count": 160,
     "metadata": {},
     "output_type": "execute_result"
    }
   ],
   "source": [
    "#This one was much faster, and slightly better.\n",
    "model3.evaluate(x_test, y_test)"
   ]
  },
  {
   "cell_type": "code",
   "execution_count": 15,
   "metadata": {},
   "outputs": [],
   "source": [
    "inputs = keras.Input(shape=input_shape)\n",
    "x = Conv2D(32, 3, activation='relu', input_shape=input_shape)(inputs)\n",
    "x = Conv2D(64, 3, activation='relu')(x)\n",
    "x = MaxPooling2D(2)(x)\n",
    "y1 = Conv2D(64, 3, activation='relu', padding='same')(x)\n",
    "y1 = BatchNormalization()(y1)\n",
    "y1 = Conv2D(64, 3, activation=None, padding='same')(y1)\n",
    "y1 = BatchNormalization()(y1)\n",
    "y1 = Add()([x, y1])\n",
    "y1 = Activation('relu')(y1)\n",
    "y2 = Conv2D(64, 3, activation='relu', padding='same')(y1)\n",
    "y2 = BatchNormalization()(y2)\n",
    "y2 = Conv2D(64, 3, activation=None, padding='same')(y2)\n",
    "y2 = BatchNormalization()(y2)\n",
    "y2 = Add()([y1, y2])\n",
    "y2 = Activation('relu')(y2)\n",
    "z = Conv2D(64, 3, activation='relu')(y2)\n",
    "z = MaxPooling2D(2)(z)\n",
    "z = Flatten()(z)\n",
    "z = Dense(256, activation='relu')(z)\n",
    "z = Dropout(0.2)(z)\n",
    "outputs = Dense(10, activation='softmax')(z)\n",
    "\n",
    "model4 = keras.Model(inputs, outputs)"
   ]
  },
  {
   "cell_type": "code",
   "execution_count": 16,
   "metadata": {},
   "outputs": [
    {
     "name": "stdout",
     "output_type": "stream",
     "text": [
      "Epoch 1/10\n",
      "60000/60000 [==============================] - 20s 327us/step - loss: 0.2691 - accuracy: 0.9251\n",
      "Epoch 2/10\n",
      "60000/60000 [==============================] - 19s 309us/step - loss: 0.0457 - accuracy: 0.9862\n",
      "Epoch 3/10\n",
      "60000/60000 [==============================] - 19s 309us/step - loss: 0.0304 - accuracy: 0.9906\n",
      "Epoch 4/10\n",
      "60000/60000 [==============================] - 19s 310us/step - loss: 0.0251 - accuracy: 0.9922\n",
      "Epoch 5/10\n",
      "60000/60000 [==============================] - 19s 309us/step - loss: 0.0204 - accuracy: 0.9937\n",
      "Epoch 6/10\n",
      "60000/60000 [==============================] - 19s 310us/step - loss: 0.0157 - accuracy: 0.9949\n",
      "Epoch 7/10\n",
      "60000/60000 [==============================] - 19s 310us/step - loss: 0.0118 - accuracy: 0.9964\n",
      "Epoch 8/10\n",
      "60000/60000 [==============================] - 19s 309us/step - loss: 0.0102 - accuracy: 0.9967\n",
      "Epoch 9/10\n",
      "60000/60000 [==============================] - 19s 310us/step - loss: 0.0088 - accuracy: 0.9972\n",
      "Epoch 10/10\n",
      "60000/60000 [==============================] - 19s 309us/step - loss: 0.0087 - accuracy: 0.9972\n"
     ]
    },
    {
     "data": {
      "text/plain": [
       "<keras.callbacks.callbacks.History at 0x2d275bddef0>"
      ]
     },
     "execution_count": 16,
     "metadata": {},
     "output_type": "execute_result"
    }
   ],
   "source": [
    "model4.compile(optimizer='adam',\n",
    "              loss='sparse_categorical_crossentropy',\n",
    "              metrics=['accuracy'])\n",
    "model4.fit(x=x_train, y=y_train, batch_size=512, epochs=10)"
   ]
  },
  {
   "cell_type": "code",
   "execution_count": 37,
   "metadata": {},
   "outputs": [
    {
     "name": "stdout",
     "output_type": "stream",
     "text": [
      "10000/10000 [==============================] - 2s 207us/step\n"
     ]
    },
    {
     "data": {
      "text/plain": [
       "[0.024909546506872084, 0.9932000041007996]"
      ]
     },
     "execution_count": 37,
     "metadata": {},
     "output_type": "execute_result"
    }
   ],
   "source": [
    "model4.evaluate(x_test, y_test)"
   ]
  },
  {
   "cell_type": "code",
   "execution_count": 22,
   "metadata": {},
   "outputs": [
    {
     "data": {
      "text/plain": [
       "<matplotlib.image.AxesImage at 0x2d32a51e898>"
      ]
     },
     "execution_count": 22,
     "metadata": {},
     "output_type": "execute_result"
    },
    {
     "data": {
      "image/png": "[encoded data removed]",
      "text/plain": [
       "<Figure size 432x288 with 1 Axes>"
      ]
     },
     "metadata": {
      "needs_background": "light"
     },
     "output_type": "display_data"
    }
   ],
   "source": [
    "plt.imshow(x_test[100].reshape(28,28), cmap='Greys')"
   ]
  },
  {
   "cell_type": "code",
   "execution_count": 41,
   "metadata": {},
   "outputs": [],
   "source": [
    "vals = []\n",
    "for i in range(10000):\n",
    "    vals.append([y_test[i], model4.predict(x_test[i].reshape(1,28,28,1)).argmax()])"
   ]
  },
  {
   "cell_type": "code",
   "execution_count": 44,
   "metadata": {},
   "outputs": [],
   "source": [
    "mismatch = []\n",
    "for i in range(10000):\n",
    "    if vals[i][0] != vals[i][1]:\n",
    "        mismatch.append([i, vals[i][0], vals[i][1]])"
   ]
  },
  {
   "cell_type": "code",
   "execution_count": 45,
   "metadata": {},
   "outputs": [
    {
     "data": {
      "text/plain": [
       "[[115, 4, 9],\n",
       " [340, 5, 3],\n",
       " [449, 3, 5],\n",
       " [582, 8, 3],\n",
       " [684, 7, 2],\n",
       " [740, 4, 9],\n",
       " [846, 7, 9],\n",
       " [947, 8, 9],\n",
       " [1014, 6, 5],\n",
       " [1039, 7, 1],\n",
       " [1242, 4, 9],\n",
       " [1260, 7, 1],\n",
       " [1393, 5, 3],\n",
       " [1459, 2, 3],\n",
       " [1500, 7, 3],\n",
       " [1522, 7, 9],\n",
       " [1737, 5, 3],\n",
       " [1878, 8, 3],\n",
       " [1901, 9, 4],\n",
       " [2070, 7, 9],\n",
       " [2130, 4, 9],\n",
       " [2182, 1, 3],\n",
       " [2293, 9, 4],\n",
       " [2447, 4, 9],\n",
       " [2454, 6, 5],\n",
       " [2597, 5, 3],\n",
       " [2654, 6, 1],\n",
       " [2771, 4, 9],\n",
       " [2896, 8, 0],\n",
       " [2939, 9, 5],\n",
       " [2953, 3, 5],\n",
       " [2959, 2, 3],\n",
       " [2995, 6, 5],\n",
       " [3073, 1, 2],\n",
       " [3225, 7, 9],\n",
       " [3422, 6, 0],\n",
       " [3441, 7, 2],\n",
       " [3520, 6, 4],\n",
       " [3534, 4, 8],\n",
       " [3767, 7, 2],\n",
       " [3906, 1, 3],\n",
       " [3941, 4, 6],\n",
       " [4199, 7, 9],\n",
       " [4382, 4, 9],\n",
       " [4536, 6, 5],\n",
       " [4571, 6, 8],\n",
       " [4783, 4, 9],\n",
       " [4860, 4, 9],\n",
       " [4911, 4, 9],\n",
       " [5165, 0, 6],\n",
       " [5201, 4, 9],\n",
       " [5936, 4, 9],\n",
       " [5937, 5, 3],\n",
       " [5981, 5, 9],\n",
       " [5997, 5, 9],\n",
       " [6571, 9, 5],\n",
       " [6576, 7, 1],\n",
       " [6597, 0, 3],\n",
       " [6651, 0, 6],\n",
       " [6783, 1, 6],\n",
       " [7902, 7, 9],\n",
       " [8061, 4, 9],\n",
       " [8316, 7, 2],\n",
       " [8527, 4, 9],\n",
       " [9505, 7, 2],\n",
       " [9664, 2, 7],\n",
       " [9729, 5, 6],\n",
       " [9792, 4, 9]]"
      ]
     },
     "execution_count": 45,
     "metadata": {},
     "output_type": "execute_result"
    }
   ],
   "source": [
    "mismatch"
   ]
  },
  {
   "cell_type": "code",
   "execution_count": 49,
   "metadata": {},
   "outputs": [
    {
     "data": {
      "text/plain": [
       "<matplotlib.image.AxesImage at 0x2d336aa5198>"
      ]
     },
     "execution_count": 49,
     "metadata": {},
     "output_type": "execute_result"
    },
    {
     "data": {
      "image/png": "[encoded data removed]",
      "text/plain": [
       "<Figure size 432x288 with 1 Axes>"
      ]
     },
     "metadata": {
      "needs_background": "light"
     },
     "output_type": "display_data"
    }
   ],
   "source": [
    "# wtf is this? \n",
    "plt.imshow(x_test[582].reshape(28,28), cmap='Greys')"
   ]
  },
  {
   "cell_type": "code",
   "execution_count": 61,
   "metadata": {},
   "outputs": [
    {
     "data": {
      "text/plain": [
       "<matplotlib.image.AxesImage at 0x2d33a0e5978>"
      ]
     },
     "execution_count": 61,
     "metadata": {},
     "output_type": "execute_result"
    },
    {
     "data": {
      "image/png": "[encoded data removed]",
      "text/plain": [
       "<Figure size 432x288 with 1 Axes>"
      ]
     },
     "metadata": {
      "needs_background": "light"
     },
     "output_type": "display_data"
    }
   ],
   "source": [
    "# I swear this is a 6.\n",
    "plt.imshow(x_test[9729].reshape(28,28), cmap='Greys')"
   ]
  },
  {
   "cell_type": "code",
   "execution_count": 62,
   "metadata": {},
   "outputs": [],
   "source": [
    "inputs = keras.Input(shape=input_shape)\n",
    "x = Conv2D(32, 3, activation='relu', input_shape=input_shape)(inputs)\n",
    "x = Dropout(0.1)(x)\n",
    "x = Conv2D(64, 3, activation='relu')(x)\n",
    "x = Dropout(0.1)(x)\n",
    "x = MaxPooling2D(2)(x)\n",
    "y1 = Conv2D(64, 3, activation='relu', padding='same')(x)\n",
    "y1 = Dropout(0.1)(y1)\n",
    "y1 = BatchNormalization()(y1)\n",
    "y1 = Conv2D(64, 3, activation=None, padding='same')(y1)\n",
    "y1 = Dropout(0.1)(y1)\n",
    "y1 = BatchNormalization()(y1)\n",
    "y1 = Add()([x, y1])\n",
    "y1 = Activation('relu')(y1)\n",
    "y2 = Conv2D(64, 3, activation='relu', padding='same')(y1)\n",
    "y2 = Dropout(0.1)(y2)\n",
    "y2 = BatchNormalization()(y2)\n",
    "y2 = Conv2D(64, 3, activation=None, padding='same')(y2)\n",
    "y2 = Dropout(0.1)(y2)\n",
    "y2 = BatchNormalization()(y2)\n",
    "y2 = Add()([y1, y2])\n",
    "y2 = Activation('relu')(y2)\n",
    "z = Conv2D(64, 3, activation='relu')(y2)\n",
    "z = Dropout(0.1)(z)\n",
    "z = MaxPooling2D(2)(z)\n",
    "z = Flatten()(z)\n",
    "z = Dense(256, activation='relu')(z)\n",
    "z = Dropout(0.2)(z)\n",
    "outputs = Dense(10, activation='softmax')(z)\n",
    "\n",
    "model5 = keras.Model(inputs, outputs)"
   ]
  },
  {
   "cell_type": "code",
   "execution_count": 63,
   "metadata": {},
   "outputs": [
    {
     "name": "stdout",
     "output_type": "stream",
     "text": [
      "Epoch 1/10\n",
      "60000/60000 [==============================] - 26s 442us/step - loss: 0.7608 - accuracy: 0.7875\n",
      "Epoch 2/10\n",
      "60000/60000 [==============================] - 24s 403us/step - loss: 0.0853 - accuracy: 0.9728\n",
      "Epoch 3/10\n",
      "60000/60000 [==============================] - 24s 405us/step - loss: 0.0566 - accuracy: 0.9827\n",
      "Epoch 4/10\n",
      "60000/60000 [==============================] - 24s 405us/step - loss: 0.0422 - accuracy: 0.9868\n",
      "Epoch 5/10\n",
      "60000/60000 [==============================] - 24s 406us/step - loss: 0.0337 - accuracy: 0.9898\n",
      "Epoch 6/10\n",
      "60000/60000 [==============================] - 24s 405us/step - loss: 0.0282 - accuracy: 0.9911\n",
      "Epoch 7/10\n",
      "60000/60000 [==============================] - 24s 405us/step - loss: 0.0242 - accuracy: 0.9922\n",
      "Epoch 8/10\n",
      "60000/60000 [==============================] - 24s 404us/step - loss: 0.0218 - accuracy: 0.9932\n",
      "Epoch 9/10\n",
      "60000/60000 [==============================] - 24s 404us/step - loss: 0.0202 - accuracy: 0.9934\n",
      "Epoch 10/10\n",
      "60000/60000 [==============================] - 24s 404us/step - loss: 0.0172 - accuracy: 0.9948\n"
     ]
    },
    {
     "data": {
      "text/plain": [
       "<keras.callbacks.callbacks.History at 0x2d3465c9c18>"
      ]
     },
     "execution_count": 63,
     "metadata": {},
     "output_type": "execute_result"
    }
   ],
   "source": [
    "model5.compile(optimizer='adam',\n",
    "               loss='sparse_categorical_crossentropy',\n",
    "               metrics=['accuracy'])\n",
    "model5.fit(x_train, y_train, batch_size=1000, epochs=10)"
   ]
  },
  {
   "cell_type": "code",
   "execution_count": 64,
   "metadata": {},
   "outputs": [
    {
     "name": "stdout",
     "output_type": "stream",
     "text": [
      "10000/10000 [==============================] - 2s 249us/step\n"
     ]
    },
    {
     "data": {
      "text/plain": [
       "[0.020051686681550926, 0.9939000010490417]"
      ]
     },
     "execution_count": 64,
     "metadata": {},
     "output_type": "execute_result"
    }
   ],
   "source": [
    "model5.evaluate(x_test, y_test)"
   ]
  },
  {
   "cell_type": "code",
   "execution_count": 69,
   "metadata": {},
   "outputs": [],
   "source": [
    "# ~20 layers deep?\n",
    "inputs = keras.Input(shape=input_shape)\n",
    "x = Conv2D(32, 3, activation='relu', input_shape=input_shape)(inputs)\n",
    "x = Conv2D(64, 3, activation='relu')(x)\n",
    "x = MaxPooling2D(2)(x)\n",
    "y1 = Conv2D(64, 3, activation='relu', padding='same')(x)\n",
    "y1 = BatchNormalization()(y1)\n",
    "y1 = Conv2D(64, 3, activation=None, padding='same')(y1)\n",
    "y1 = BatchNormalization()(y1)\n",
    "y1 = Add()([x, y1])\n",
    "y1 = Activation('relu')(y1)\n",
    "y2 = Conv2D(64, 3, activation='relu', padding='same')(y1)\n",
    "y2 = BatchNormalization()(y2)\n",
    "y2 = Conv2D(64, 3, activation=None, padding='same')(y2)\n",
    "y2 = BatchNormalization()(y2)\n",
    "y2 = Add()([y1, y2])\n",
    "y2 = Activation('relu')(y2)\n",
    "y3 = Conv2D(64, 3, activation='relu', padding='same')(y2)\n",
    "y3 = BatchNormalization()(y3)\n",
    "y3 = Conv2D(64, 3, activation=None, padding='same')(y3)\n",
    "y3 = BatchNormalization()(y3)\n",
    "y3 = Add()([y2, y3])\n",
    "y3 = Activation('relu')(y3)\n",
    "y4 = Conv2D(64, 3, activation='relu', padding='same')(y3)\n",
    "y4 = BatchNormalization()(y4)\n",
    "y4 = Conv2D(64, 3, activation=None, padding='same')(y4)\n",
    "y4 = BatchNormalization()(y4)\n",
    "y4 = Add()([y3, y4])\n",
    "y4 = Activation('relu')(y4)\n",
    "y5 = Conv2D(64, 3, activation='relu', padding='same')(y4)\n",
    "y5 = BatchNormalization()(y5)\n",
    "y5 = Conv2D(64, 3, activation=None, padding='same')(y5)\n",
    "y5 = BatchNormalization()(y5)\n",
    "y5 = Add()([y4, y5])\n",
    "y5 = Activation('relu')(y5)\n",
    "y6 = Conv2D(64, 3, activation='relu', padding='same')(y5)\n",
    "y6 = BatchNormalization()(y6)\n",
    "y6 = Conv2D(64, 3, activation=None, padding='same')(y6)\n",
    "y6 = BatchNormalization()(y6)\n",
    "y6 = Add()([y5, y6])\n",
    "y6 = Activation('relu')(y6)\n",
    "y7 = Conv2D(64, 3, activation='relu', padding='same')(y6)\n",
    "y7 = BatchNormalization()(y7)\n",
    "y7 = Conv2D(64, 3, activation=None, padding='same')(y7)\n",
    "y7 = BatchNormalization()(y7)\n",
    "y7 = Add()([y6, y7])\n",
    "y7 = Activation('relu')(y7)\n",
    "y8 = Conv2D(64, 3, activation='relu', padding='same')(y7)\n",
    "y8 = BatchNormalization()(y8)\n",
    "y8 = Conv2D(64, 3, activation=None, padding='same')(y8)\n",
    "y8 = BatchNormalization()(y8)\n",
    "y8 = Add()([y7, y8])\n",
    "y8 = Activation('relu')(y8)\n",
    "z = Conv2D(64, 3, activation='relu')(y8)\n",
    "z = MaxPooling2D(2)(z)\n",
    "z = Flatten()(z)\n",
    "z = Dense(256, activation='relu')(z)\n",
    "z = Dropout(0.25)(z)\n",
    "outputs = Dense(10, activation='softmax')(z)\n",
    "\n",
    "model6 = keras.Model(inputs, outputs)"
   ]
  },
  {
   "cell_type": "code",
   "execution_count": 70,
   "metadata": {},
   "outputs": [
    {
     "name": "stdout",
     "output_type": "stream",
     "text": [
      "Epoch 1/100\n",
      "60000/60000 [==============================] - 54s 897us/step - loss: 0.7227 - accuracy: 0.8380\n",
      "Epoch 2/100\n",
      "60000/60000 [==============================] - 51s 847us/step - loss: 0.0611 - accuracy: 0.9817\n",
      "Epoch 3/100\n",
      "60000/60000 [==============================] - 51s 846us/step - loss: 0.0390 - accuracy: 0.9885\n",
      "Epoch 4/100\n",
      "60000/60000 [==============================] - 51s 845us/step - loss: 0.0296 - accuracy: 0.9909\n",
      "Epoch 5/100\n",
      "60000/60000 [==============================] - 51s 845us/step - loss: 0.0208 - accuracy: 0.9937\n",
      "Epoch 6/100\n",
      "60000/60000 [==============================] - 51s 845us/step - loss: 0.0184 - accuracy: 0.9941\n",
      "Epoch 7/100\n",
      "60000/60000 [==============================] - 51s 844us/step - loss: 0.0168 - accuracy: 0.9946\n",
      "Epoch 8/100\n",
      "60000/60000 [==============================] - 51s 844us/step - loss: 0.0125 - accuracy: 0.9961\n",
      "Epoch 9/100\n",
      "60000/60000 [==============================] - 51s 845us/step - loss: 0.0099 - accuracy: 0.9969\n",
      "Epoch 10/100\n",
      "60000/60000 [==============================] - 51s 847us/step - loss: 0.0117 - accuracy: 0.9963\n",
      "Epoch 11/100\n",
      "60000/60000 [==============================] - 51s 847us/step - loss: 0.0109 - accuracy: 0.9963\n",
      "Epoch 12/100\n",
      "60000/60000 [==============================] - 51s 846us/step - loss: 0.0095 - accuracy: 0.9968\n",
      "Epoch 13/100\n",
      "60000/60000 [==============================] - 51s 846us/step - loss: 0.0072 - accuracy: 0.9978\n",
      "Epoch 14/100\n",
      "60000/60000 [==============================] - 51s 847us/step - loss: 0.0052 - accuracy: 0.9984\n",
      "Epoch 15/100\n",
      "60000/60000 [==============================] - 51s 847us/step - loss: 0.0082 - accuracy: 0.9973\n",
      "Epoch 16/100\n",
      "60000/60000 [==============================] - 51s 846us/step - loss: 0.0069 - accuracy: 0.9979\n",
      "Epoch 17/100\n",
      "60000/60000 [==============================] - 51s 846us/step - loss: 0.0056 - accuracy: 0.9981\n",
      "Epoch 18/100\n",
      "60000/60000 [==============================] - 51s 848us/step - loss: 0.0055 - accuracy: 0.9983\n",
      "Epoch 19/100\n",
      "60000/60000 [==============================] - 51s 850us/step - loss: 0.0068 - accuracy: 0.9978\n",
      "Epoch 20/100\n",
      "60000/60000 [==============================] - 51s 851us/step - loss: 0.0053 - accuracy: 0.9983\n",
      "Epoch 21/100\n",
      "60000/60000 [==============================] - 51s 851us/step - loss: 0.0058 - accuracy: 0.9980\n",
      "Epoch 22/100\n",
      "60000/60000 [==============================] - 51s 851us/step - loss: 0.0039 - accuracy: 0.9985\n",
      "Epoch 23/100\n",
      "60000/60000 [==============================] - 51s 852us/step - loss: 0.0037 - accuracy: 0.9988\n",
      "Epoch 24/100\n",
      "60000/60000 [==============================] - 51s 852us/step - loss: 0.0034 - accuracy: 0.9989\n",
      "Epoch 25/100\n",
      "60000/60000 [==============================] - 51s 854us/step - loss: 0.0052 - accuracy: 0.9982\n",
      "Epoch 26/100\n",
      "60000/60000 [==============================] - 51s 854us/step - loss: 0.0060 - accuracy: 0.9980\n",
      "Epoch 27/100\n",
      "60000/60000 [==============================] - 51s 852us/step - loss: 0.0082 - accuracy: 0.9974\n",
      "Epoch 28/100\n",
      "60000/60000 [==============================] - 51s 854us/step - loss: 0.0067 - accuracy: 0.9976\n",
      "Epoch 29/100\n",
      "60000/60000 [==============================] - 51s 853us/step - loss: 0.0038 - accuracy: 0.9987\n",
      "Epoch 30/100\n",
      "60000/60000 [==============================] - 51s 856us/step - loss: 0.0053 - accuracy: 0.9983\n",
      "Epoch 31/100\n",
      "60000/60000 [==============================] - 51s 855us/step - loss: 0.0069 - accuracy: 0.9978\n",
      "Epoch 32/100\n",
      "60000/60000 [==============================] - 51s 856us/step - loss: 0.0070 - accuracy: 0.9976\n",
      "Epoch 33/100\n",
      "60000/60000 [==============================] - 51s 854us/step - loss: 0.0057 - accuracy: 0.9981\n",
      "Epoch 34/100\n",
      "60000/60000 [==============================] - 51s 855us/step - loss: 0.0041 - accuracy: 0.9987\n",
      "Epoch 35/100\n",
      "60000/60000 [==============================] - 51s 854us/step - loss: 0.0031 - accuracy: 0.9991\n",
      "Epoch 36/100\n",
      "60000/60000 [==============================] - 51s 856us/step - loss: 0.0029 - accuracy: 0.9990\n",
      "Epoch 37/100\n",
      "60000/60000 [==============================] - 51s 854us/step - loss: 0.0028 - accuracy: 0.9991\n",
      "Epoch 38/100\n",
      "60000/60000 [==============================] - 51s 854us/step - loss: 0.0033 - accuracy: 0.9989\n",
      "Epoch 39/100\n",
      "60000/60000 [==============================] - 51s 853us/step - loss: 0.0036 - accuracy: 0.9989\n",
      "Epoch 40/100\n",
      "60000/60000 [==============================] - 51s 854us/step - loss: 0.0057 - accuracy: 0.9981\n",
      "Epoch 41/100\n",
      "60000/60000 [==============================] - 51s 853us/step - loss: 0.0040 - accuracy: 0.9986\n",
      "Epoch 42/100\n",
      "60000/60000 [==============================] - 51s 854us/step - loss: 0.0022 - accuracy: 0.9993\n",
      "Epoch 43/100\n",
      "60000/60000 [==============================] - 51s 853us/step - loss: 0.0017 - accuracy: 0.9994\n",
      "Epoch 44/100\n",
      "60000/60000 [==============================] - 51s 854us/step - loss: 0.0013 - accuracy: 0.9997\n",
      "Epoch 45/100\n",
      "60000/60000 [==============================] - 51s 854us/step - loss: 0.0011 - accuracy: 0.9997\n",
      "Epoch 46/100\n",
      "60000/60000 [==============================] - 51s 854us/step - loss: 0.0049 - accuracy: 0.9984\n",
      "Epoch 47/100\n",
      "60000/60000 [==============================] - 51s 853us/step - loss: 0.0051 - accuracy: 0.9984\n",
      "Epoch 48/100\n",
      "60000/60000 [==============================] - 51s 853us/step - loss: 0.0044 - accuracy: 0.9987\n",
      "Epoch 49/100\n",
      "60000/60000 [==============================] - 51s 854us/step - loss: 0.0030 - accuracy: 0.9990\n",
      "Epoch 50/100\n",
      "60000/60000 [==============================] - 51s 854us/step - loss: 0.0034 - accuracy: 0.9989\n",
      "Epoch 51/100\n",
      "60000/60000 [==============================] - 51s 854us/step - loss: 0.0043 - accuracy: 0.9988\n",
      "Epoch 52/100\n",
      "60000/60000 [==============================] - 51s 856us/step - loss: 0.0032 - accuracy: 0.9991\n",
      "Epoch 53/100\n",
      "60000/60000 [==============================] - 51s 855us/step - loss: 0.0034 - accuracy: 0.9989\n",
      "Epoch 54/100\n",
      "60000/60000 [==============================] - 51s 855us/step - loss: 0.0018 - accuracy: 0.9995\n",
      "Epoch 55/100\n",
      "60000/60000 [==============================] - 51s 854us/step - loss: 0.0025 - accuracy: 0.9991\n",
      "Epoch 56/100\n",
      "60000/60000 [==============================] - 51s 855us/step - loss: 0.0029 - accuracy: 0.9991\n",
      "Epoch 57/100\n",
      "60000/60000 [==============================] - 51s 855us/step - loss: 0.0049 - accuracy: 0.9986\n",
      "Epoch 58/100\n",
      "60000/60000 [==============================] - 51s 855us/step - loss: 0.0058 - accuracy: 0.9981\n",
      "Epoch 59/100\n",
      "60000/60000 [==============================] - 51s 854us/step - loss: 0.0059 - accuracy: 0.9980\n",
      "Epoch 60/100\n",
      "60000/60000 [==============================] - 51s 854us/step - loss: 0.0036 - accuracy: 0.9989\n",
      "Epoch 61/100\n",
      "60000/60000 [==============================] - 51s 854us/step - loss: 0.0030 - accuracy: 0.9989\n",
      "Epoch 62/100\n",
      "60000/60000 [==============================] - 51s 854us/step - loss: 0.0055 - accuracy: 0.9983\n",
      "Epoch 63/100\n",
      "60000/60000 [==============================] - 51s 855us/step - loss: 0.0043 - accuracy: 0.9985\n",
      "Epoch 64/100\n",
      "60000/60000 [==============================] - 51s 855us/step - loss: 0.0017 - accuracy: 0.9995\n",
      "Epoch 65/100\n",
      "60000/60000 [==============================] - 51s 855us/step - loss: 0.0012 - accuracy: 0.9996\n",
      "Epoch 66/100\n",
      "60000/60000 [==============================] - 51s 855us/step - loss: 0.0033 - accuracy: 0.9990\n",
      "Epoch 67/100\n",
      "60000/60000 [==============================] - 51s 857us/step - loss: 0.0046 - accuracy: 0.9985\n",
      "Epoch 68/100\n",
      "60000/60000 [==============================] - 51s 855us/step - loss: 0.0032 - accuracy: 0.9988\n",
      "Epoch 69/100\n",
      "60000/60000 [==============================] - 51s 854us/step - loss: 0.0036 - accuracy: 0.9988\n",
      "Epoch 70/100\n",
      "60000/60000 [==============================] - 51s 854us/step - loss: 0.0022 - accuracy: 0.9992\n",
      "Epoch 71/100\n",
      "60000/60000 [==============================] - 51s 853us/step - loss: 0.0019 - accuracy: 0.9995\n",
      "Epoch 72/100\n",
      "60000/60000 [==============================] - 51s 854us/step - loss: 0.0034 - accuracy: 0.9989\n",
      "Epoch 73/100\n",
      "60000/60000 [==============================] - 51s 853us/step - loss: 0.0020 - accuracy: 0.9995\n",
      "Epoch 74/100\n",
      "60000/60000 [==============================] - 51s 852us/step - loss: 0.0014 - accuracy: 0.9996\n",
      "Epoch 75/100\n",
      "60000/60000 [==============================] - 51s 855us/step - loss: 0.0013 - accuracy: 0.9995\n",
      "Epoch 76/100\n"
     ]
    },
    {
     "name": "stdout",
     "output_type": "stream",
     "text": [
      "60000/60000 [==============================] - 51s 855us/step - loss: 0.0054 - accuracy: 0.9984\n",
      "Epoch 77/100\n",
      "60000/60000 [==============================] - 51s 853us/step - loss: 0.0064 - accuracy: 0.9979\n",
      "Epoch 78/100\n",
      "60000/60000 [==============================] - 51s 853us/step - loss: 0.0036 - accuracy: 0.9987\n",
      "Epoch 79/100\n",
      "60000/60000 [==============================] - 51s 855us/step - loss: 0.0039 - accuracy: 0.9987\n",
      "Epoch 80/100\n",
      "60000/60000 [==============================] - 51s 854us/step - loss: 0.0024 - accuracy: 0.9992\n",
      "Epoch 81/100\n",
      "60000/60000 [==============================] - 51s 853us/step - loss: 0.0029 - accuracy: 0.9991\n",
      "Epoch 82/100\n",
      "60000/60000 [==============================] - 51s 854us/step - loss: 0.0042 - accuracy: 0.9985\n",
      "Epoch 83/100\n",
      "60000/60000 [==============================] - 51s 853us/step - loss: 0.0019 - accuracy: 0.9994\n",
      "Epoch 84/100\n",
      "60000/60000 [==============================] - 51s 853us/step - loss: 0.0025 - accuracy: 0.9991\n",
      "Epoch 85/100\n",
      "60000/60000 [==============================] - 51s 853us/step - loss: 0.0019 - accuracy: 0.9994\n",
      "Epoch 86/100\n",
      "60000/60000 [==============================] - 51s 853us/step - loss: 0.0018 - accuracy: 0.9993\n",
      "Epoch 87/100\n",
      "60000/60000 [==============================] - 51s 852us/step - loss: 0.0033 - accuracy: 0.9989\n",
      "Epoch 88/100\n",
      "60000/60000 [==============================] - 51s 852us/step - loss: 0.0027 - accuracy: 0.9990\n",
      "Epoch 89/100\n",
      "60000/60000 [==============================] - 51s 852us/step - loss: 0.0035 - accuracy: 0.9989\n",
      "Epoch 90/100\n",
      "60000/60000 [==============================] - 51s 852us/step - loss: 0.0026 - accuracy: 0.9991\n",
      "Epoch 91/100\n",
      "60000/60000 [==============================] - 51s 852us/step - loss: 0.0021 - accuracy: 0.9994\n",
      "Epoch 92/100\n",
      "60000/60000 [==============================] - 51s 852us/step - loss: 0.0023 - accuracy: 0.9994\n",
      "Epoch 93/100\n",
      "60000/60000 [==============================] - 51s 852us/step - loss: 0.0038 - accuracy: 0.9989\n",
      "Epoch 94/100\n",
      "60000/60000 [==============================] - 51s 852us/step - loss: 0.0036 - accuracy: 0.9992\n",
      "Epoch 95/100\n",
      "60000/60000 [==============================] - 51s 853us/step - loss: 0.0030 - accuracy: 0.9990\n",
      "Epoch 96/100\n",
      "60000/60000 [==============================] - 51s 852us/step - loss: 0.0022 - accuracy: 0.9992\n",
      "Epoch 97/100\n",
      "60000/60000 [==============================] - 51s 851us/step - loss: 0.0034 - accuracy: 0.9989\n",
      "Epoch 98/100\n",
      "60000/60000 [==============================] - 51s 852us/step - loss: 0.0051 - accuracy: 0.9983\n",
      "Epoch 99/100\n",
      "60000/60000 [==============================] - 51s 852us/step - loss: 0.0045 - accuracy: 0.9987\n",
      "Epoch 100/100\n",
      "60000/60000 [==============================] - 51s 853us/step - loss: 0.0026 - accuracy: 0.9991\n"
     ]
    },
    {
     "data": {
      "text/plain": [
       "<keras.callbacks.callbacks.History at 0x2d34dcb8d30>"
      ]
     },
     "execution_count": 70,
     "metadata": {},
     "output_type": "execute_result"
    }
   ],
   "source": [
    "model6.compile(optimizer='adam',\n",
    "               loss='sparse_categorical_crossentropy',\n",
    "               metrics=['accuracy'])\n",
    "model6.fit(x_train, y_train, batch_size=1000, epochs=100)"
   ]
  },
  {
   "cell_type": "code",
   "execution_count": 71,
   "metadata": {},
   "outputs": [
    {
     "name": "stdout",
     "output_type": "stream",
     "text": [
      "10000/10000 [==============================] - 5s 488us/step\n"
     ]
    },
    {
     "data": {
      "text/plain": [
       "[0.03151751428373202, 0.9947999715805054]"
      ]
     },
     "execution_count": 71,
     "metadata": {},
     "output_type": "execute_result"
    }
   ],
   "source": [
    "model6.evaluate(x_test, y_test)"
   ]
  },
  {
   "cell_type": "code",
   "execution_count": null,
   "metadata": {},
   "outputs": [],
   "source": []
  }
 ],
 "metadata": {
  "kernelspec": {
   "display_name": "Python 3",
   "language": "python",
   "name": "python3"
  },
  "language_info": {
   "codemirror_mode": {
    "name": "ipython",
    "version": 3
   },
   "file_extension": ".py",
   "mimetype": "text/x-python",
   "name": "python",
   "nbconvert_exporter": "python",
   "pygments_lexer": "ipython3",
   "version": "3.7.3"
  }
 },
 "nbformat": 4,
 "nbformat_minor": 2
}
